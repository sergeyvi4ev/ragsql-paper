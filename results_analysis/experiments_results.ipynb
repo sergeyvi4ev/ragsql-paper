{
 "cells": [
  {
   "cell_type": "code",
   "execution_count": 1,
   "outputs": [],
   "source": [
    "import pandas as pd\n",
    "from scripts.custom_evaluator import Evaluator"
   ],
   "metadata": {
    "collapsed": false,
    "ExecuteTime": {
     "end_time": "2024-04-29T23:59:45.695623Z",
     "start_time": "2024-04-29T23:59:43.954547Z"
    }
   },
   "id": "initial_id"
  },
  {
   "cell_type": "markdown",
   "source": [
    "# ANALYZE RESULTS: QUESTION vs. EVIDENCE"
   ],
   "metadata": {
    "collapsed": false
   },
   "id": "cce9d0dd09b9ec7a"
  },
  {
   "cell_type": "code",
   "execution_count": 21,
   "outputs": [],
   "source": [
    "raw_results = pd.read_csv('../data/experiment_results/eval_detailed_results_question_evidence.csv')\n",
    "evaluator = Evaluator()\n",
    "summary_labels = evaluator.summarize_results(raw_results, output_categories=['model','label'])\n",
    "# use this one if only summary by model is needed\n",
    "summary = evaluator.summarize_results(raw_results, output_categories=['model'])"
   ],
   "metadata": {
    "collapsed": false,
    "ExecuteTime": {
     "end_time": "2024-04-30T00:19:46.744302Z",
     "start_time": "2024-04-30T00:19:46.329645Z"
    }
   },
   "id": "d9c4e079b0928a01"
  },
  {
   "cell_type": "code",
   "execution_count": 22,
   "outputs": [
    {
     "data": {
      "text/plain": "                                model  PRC_at_1  NDCG_at_1  PRC_at_3  \\\n0  Snowflake/snowflake-arctic-embed-l     40.87      40.87     53.93   \n1                    all-MiniLM-L6-v2     63.58      63.58     76.75   \n2                   all-mpnet-base-v2     49.44      49.44     66.37   \n3                  embed-english-v3.0     69.49      69.49     82.55   \n4  sergeyvi4ev/all-MiniLM-RAGSQL-code     75.82      75.82     86.09   \n5  sergeyvi4ev/all-MiniLM-RAGSQL-text     85.91      85.91     94.78   \n6              text-embedding-3-large     69.50      69.50     81.23   \n7              text-embedding-3-small     69.64      69.64     81.42   \n8              text-embedding-ada-002     70.79      70.79     82.62   \n\n   NDCG_at_3  PRC_at_5  NDCG_at_5  PRC_at_10  NDCG_at_10  \n0      48.51     58.94      50.57      65.10       52.57  \n1      71.31     81.15      73.12      85.93       74.66  \n2      59.38     73.16      62.18      80.18       64.46  \n3      77.22     86.43      78.83      90.32       80.09  \n4      81.86     89.23      83.15      92.73       84.30  \n5      91.15     96.72      91.96      98.09       92.40  \n6      76.42     85.15      78.04      89.53       79.46  \n7      76.59     85.29      78.19      89.34       79.51  \n8      77.76     86.29      79.28      90.44       80.62  ",
      "text/html": "<div>\n<style scoped>\n    .dataframe tbody tr th:only-of-type {\n        vertical-align: middle;\n    }\n\n    .dataframe tbody tr th {\n        vertical-align: top;\n    }\n\n    .dataframe thead th {\n        text-align: right;\n    }\n</style>\n<table border=\"1\" class=\"dataframe\">\n  <thead>\n    <tr style=\"text-align: right;\">\n      <th></th>\n      <th>model</th>\n      <th>PRC_at_1</th>\n      <th>NDCG_at_1</th>\n      <th>PRC_at_3</th>\n      <th>NDCG_at_3</th>\n      <th>PRC_at_5</th>\n      <th>NDCG_at_5</th>\n      <th>PRC_at_10</th>\n      <th>NDCG_at_10</th>\n    </tr>\n  </thead>\n  <tbody>\n    <tr>\n      <th>0</th>\n      <td>Snowflake/snowflake-arctic-embed-l</td>\n      <td>40.87</td>\n      <td>40.87</td>\n      <td>53.93</td>\n      <td>48.51</td>\n      <td>58.94</td>\n      <td>50.57</td>\n      <td>65.10</td>\n      <td>52.57</td>\n    </tr>\n    <tr>\n      <th>1</th>\n      <td>all-MiniLM-L6-v2</td>\n      <td>63.58</td>\n      <td>63.58</td>\n      <td>76.75</td>\n      <td>71.31</td>\n      <td>81.15</td>\n      <td>73.12</td>\n      <td>85.93</td>\n      <td>74.66</td>\n    </tr>\n    <tr>\n      <th>2</th>\n      <td>all-mpnet-base-v2</td>\n      <td>49.44</td>\n      <td>49.44</td>\n      <td>66.37</td>\n      <td>59.38</td>\n      <td>73.16</td>\n      <td>62.18</td>\n      <td>80.18</td>\n      <td>64.46</td>\n    </tr>\n    <tr>\n      <th>3</th>\n      <td>embed-english-v3.0</td>\n      <td>69.49</td>\n      <td>69.49</td>\n      <td>82.55</td>\n      <td>77.22</td>\n      <td>86.43</td>\n      <td>78.83</td>\n      <td>90.32</td>\n      <td>80.09</td>\n    </tr>\n    <tr>\n      <th>4</th>\n      <td>sergeyvi4ev/all-MiniLM-RAGSQL-code</td>\n      <td>75.82</td>\n      <td>75.82</td>\n      <td>86.09</td>\n      <td>81.86</td>\n      <td>89.23</td>\n      <td>83.15</td>\n      <td>92.73</td>\n      <td>84.30</td>\n    </tr>\n    <tr>\n      <th>5</th>\n      <td>sergeyvi4ev/all-MiniLM-RAGSQL-text</td>\n      <td>85.91</td>\n      <td>85.91</td>\n      <td>94.78</td>\n      <td>91.15</td>\n      <td>96.72</td>\n      <td>91.96</td>\n      <td>98.09</td>\n      <td>92.40</td>\n    </tr>\n    <tr>\n      <th>6</th>\n      <td>text-embedding-3-large</td>\n      <td>69.50</td>\n      <td>69.50</td>\n      <td>81.23</td>\n      <td>76.42</td>\n      <td>85.15</td>\n      <td>78.04</td>\n      <td>89.53</td>\n      <td>79.46</td>\n    </tr>\n    <tr>\n      <th>7</th>\n      <td>text-embedding-3-small</td>\n      <td>69.64</td>\n      <td>69.64</td>\n      <td>81.42</td>\n      <td>76.59</td>\n      <td>85.29</td>\n      <td>78.19</td>\n      <td>89.34</td>\n      <td>79.51</td>\n    </tr>\n    <tr>\n      <th>8</th>\n      <td>text-embedding-ada-002</td>\n      <td>70.79</td>\n      <td>70.79</td>\n      <td>82.62</td>\n      <td>77.76</td>\n      <td>86.29</td>\n      <td>79.28</td>\n      <td>90.44</td>\n      <td>80.62</td>\n    </tr>\n  </tbody>\n</table>\n</div>"
     },
     "execution_count": 22,
     "metadata": {},
     "output_type": "execute_result"
    }
   ],
   "source": [
    "summary"
   ],
   "metadata": {
    "collapsed": false,
    "ExecuteTime": {
     "end_time": "2024-04-30T00:19:47.413460Z",
     "start_time": "2024-04-30T00:19:47.401423Z"
    }
   },
   "id": "e519308458318d29"
  },
  {
   "cell_type": "code",
   "execution_count": 23,
   "outputs": [
    {
     "data": {
      "text/plain": "                                 model label  NDCG_at_10\n0   Snowflake/snowflake-arctic-embed-l   dev       52.95\n3                     all-MiniLM-L6-v2   dev       70.23\n6                    all-mpnet-base-v2   dev       63.59\n9                   embed-english-v3.0   dev       76.36\n12  sergeyvi4ev/all-MiniLM-RAGSQL-code   dev       77.91\n15  sergeyvi4ev/all-MiniLM-RAGSQL-text   dev       84.99\n18              text-embedding-3-large   dev       75.08\n21              text-embedding-3-small   dev       75.01\n24              text-embedding-ada-002   dev       76.53",
      "text/html": "<div>\n<style scoped>\n    .dataframe tbody tr th:only-of-type {\n        vertical-align: middle;\n    }\n\n    .dataframe tbody tr th {\n        vertical-align: top;\n    }\n\n    .dataframe thead th {\n        text-align: right;\n    }\n</style>\n<table border=\"1\" class=\"dataframe\">\n  <thead>\n    <tr style=\"text-align: right;\">\n      <th></th>\n      <th>model</th>\n      <th>label</th>\n      <th>NDCG_at_10</th>\n    </tr>\n  </thead>\n  <tbody>\n    <tr>\n      <th>0</th>\n      <td>Snowflake/snowflake-arctic-embed-l</td>\n      <td>dev</td>\n      <td>52.95</td>\n    </tr>\n    <tr>\n      <th>3</th>\n      <td>all-MiniLM-L6-v2</td>\n      <td>dev</td>\n      <td>70.23</td>\n    </tr>\n    <tr>\n      <th>6</th>\n      <td>all-mpnet-base-v2</td>\n      <td>dev</td>\n      <td>63.59</td>\n    </tr>\n    <tr>\n      <th>9</th>\n      <td>embed-english-v3.0</td>\n      <td>dev</td>\n      <td>76.36</td>\n    </tr>\n    <tr>\n      <th>12</th>\n      <td>sergeyvi4ev/all-MiniLM-RAGSQL-code</td>\n      <td>dev</td>\n      <td>77.91</td>\n    </tr>\n    <tr>\n      <th>15</th>\n      <td>sergeyvi4ev/all-MiniLM-RAGSQL-text</td>\n      <td>dev</td>\n      <td>84.99</td>\n    </tr>\n    <tr>\n      <th>18</th>\n      <td>text-embedding-3-large</td>\n      <td>dev</td>\n      <td>75.08</td>\n    </tr>\n    <tr>\n      <th>21</th>\n      <td>text-embedding-3-small</td>\n      <td>dev</td>\n      <td>75.01</td>\n    </tr>\n    <tr>\n      <th>24</th>\n      <td>text-embedding-ada-002</td>\n      <td>dev</td>\n      <td>76.53</td>\n    </tr>\n  </tbody>\n</table>\n</div>"
     },
     "execution_count": 23,
     "metadata": {},
     "output_type": "execute_result"
    }
   ],
   "source": [
    "# remove multi-qa-mpnet-base-dot-v1 and sergeyvi4ev/sql-question-to-evidence-v1\n",
    "summary_labels = summary_labels[~summary_labels['model'].isin(['multi-qa-mpnet-base-dot-v1','sergeyvi4ev/sql-question-to-evidence-v1'])]\n",
    " # where label = dev or train_val\n",
    "summary_labels[['model','label','NDCG_at_10']].loc[summary_labels['label'] == 'dev'].head(10)\n"
   ],
   "metadata": {
    "collapsed": false,
    "ExecuteTime": {
     "end_time": "2024-04-30T00:19:48.957875Z",
     "start_time": "2024-04-30T00:19:48.945115Z"
    }
   },
   "id": "ee647cde93f560d6"
  },
  {
   "cell_type": "markdown",
   "source": [
    "# ANALYZE RESULTS: QUESTION vs. SQL"
   ],
   "metadata": {
    "collapsed": false
   },
   "id": "120466cb53373619"
  },
  {
   "cell_type": "code",
   "execution_count": 15,
   "outputs": [],
   "source": [
    "raw_results = pd.read_csv('../data/experiment_results/eval_detailed_results_question_SQL.csv')\n",
    "evaluator = Evaluator()\n",
    "summary = evaluator.summarize_results(raw_results, output_categories=['model'])\n",
    "summary_labels = evaluator.summarize_results(raw_results, output_categories=['model','label'])"
   ],
   "metadata": {
    "collapsed": false,
    "ExecuteTime": {
     "end_time": "2024-04-30T00:16:24.202303Z",
     "start_time": "2024-04-30T00:16:23.823044Z"
    }
   },
   "id": "3a8d0600b9e19f76"
  },
  {
   "cell_type": "code",
   "execution_count": 8,
   "outputs": [
    {
     "data": {
      "text/plain": "                                model  PRC_at_1  NDCG_at_1  PRC_at_3  \\\n0  Snowflake/snowflake-arctic-embed-l      3.97       3.97      6.50   \n1                    all-MiniLM-L6-v2     53.94      53.94     71.92   \n2                   all-mpnet-base-v2     51.90      51.90     70.45   \n3                  embed-english-v3.0     53.11      53.11     70.02   \n4  sergeyvi4ev/all-MiniLM-RAGSQL-code     88.91      88.91     96.31   \n5  sergeyvi4ev/all-MiniLM-RAGSQL-text     76.03      76.03     87.50   \n6              text-embedding-3-large     78.71      78.71     91.07   \n7              text-embedding-3-small     69.44      69.44     85.09   \n8              text-embedding-ada-002     70.09      70.09     85.50   \n\n   NDCG_at_3  PRC_at_5  NDCG_at_5  PRC_at_10  NDCG_at_10  \n0       5.43      8.16       6.10      10.49        6.86  \n1      64.51     78.40      67.19      85.93       69.63  \n2      62.78     77.36      65.62      85.04       68.13  \n3      63.06     76.53      65.75      83.99       68.18  \n4      93.37     97.88      94.02      98.81       94.32  \n5      82.83     90.88      84.23      94.03       85.26  \n6      86.10     93.83      87.24      96.30       88.05  \n7      78.70     89.79      80.63      93.67       81.90  \n8      79.21     90.01      81.07      94.49       82.54  ",
      "text/html": "<div>\n<style scoped>\n    .dataframe tbody tr th:only-of-type {\n        vertical-align: middle;\n    }\n\n    .dataframe tbody tr th {\n        vertical-align: top;\n    }\n\n    .dataframe thead th {\n        text-align: right;\n    }\n</style>\n<table border=\"1\" class=\"dataframe\">\n  <thead>\n    <tr style=\"text-align: right;\">\n      <th></th>\n      <th>model</th>\n      <th>PRC_at_1</th>\n      <th>NDCG_at_1</th>\n      <th>PRC_at_3</th>\n      <th>NDCG_at_3</th>\n      <th>PRC_at_5</th>\n      <th>NDCG_at_5</th>\n      <th>PRC_at_10</th>\n      <th>NDCG_at_10</th>\n    </tr>\n  </thead>\n  <tbody>\n    <tr>\n      <th>0</th>\n      <td>Snowflake/snowflake-arctic-embed-l</td>\n      <td>3.97</td>\n      <td>3.97</td>\n      <td>6.50</td>\n      <td>5.43</td>\n      <td>8.16</td>\n      <td>6.10</td>\n      <td>10.49</td>\n      <td>6.86</td>\n    </tr>\n    <tr>\n      <th>1</th>\n      <td>all-MiniLM-L6-v2</td>\n      <td>53.94</td>\n      <td>53.94</td>\n      <td>71.92</td>\n      <td>64.51</td>\n      <td>78.40</td>\n      <td>67.19</td>\n      <td>85.93</td>\n      <td>69.63</td>\n    </tr>\n    <tr>\n      <th>2</th>\n      <td>all-mpnet-base-v2</td>\n      <td>51.90</td>\n      <td>51.90</td>\n      <td>70.45</td>\n      <td>62.78</td>\n      <td>77.36</td>\n      <td>65.62</td>\n      <td>85.04</td>\n      <td>68.13</td>\n    </tr>\n    <tr>\n      <th>3</th>\n      <td>embed-english-v3.0</td>\n      <td>53.11</td>\n      <td>53.11</td>\n      <td>70.02</td>\n      <td>63.06</td>\n      <td>76.53</td>\n      <td>65.75</td>\n      <td>83.99</td>\n      <td>68.18</td>\n    </tr>\n    <tr>\n      <th>4</th>\n      <td>sergeyvi4ev/all-MiniLM-RAGSQL-code</td>\n      <td>88.91</td>\n      <td>88.91</td>\n      <td>96.31</td>\n      <td>93.37</td>\n      <td>97.88</td>\n      <td>94.02</td>\n      <td>98.81</td>\n      <td>94.32</td>\n    </tr>\n    <tr>\n      <th>5</th>\n      <td>sergeyvi4ev/all-MiniLM-RAGSQL-text</td>\n      <td>76.03</td>\n      <td>76.03</td>\n      <td>87.50</td>\n      <td>82.83</td>\n      <td>90.88</td>\n      <td>84.23</td>\n      <td>94.03</td>\n      <td>85.26</td>\n    </tr>\n    <tr>\n      <th>6</th>\n      <td>text-embedding-3-large</td>\n      <td>78.71</td>\n      <td>78.71</td>\n      <td>91.07</td>\n      <td>86.10</td>\n      <td>93.83</td>\n      <td>87.24</td>\n      <td>96.30</td>\n      <td>88.05</td>\n    </tr>\n    <tr>\n      <th>7</th>\n      <td>text-embedding-3-small</td>\n      <td>69.44</td>\n      <td>69.44</td>\n      <td>85.09</td>\n      <td>78.70</td>\n      <td>89.79</td>\n      <td>80.63</td>\n      <td>93.67</td>\n      <td>81.90</td>\n    </tr>\n    <tr>\n      <th>8</th>\n      <td>text-embedding-ada-002</td>\n      <td>70.09</td>\n      <td>70.09</td>\n      <td>85.50</td>\n      <td>79.21</td>\n      <td>90.01</td>\n      <td>81.07</td>\n      <td>94.49</td>\n      <td>82.54</td>\n    </tr>\n  </tbody>\n</table>\n</div>"
     },
     "execution_count": 8,
     "metadata": {},
     "output_type": "execute_result"
    }
   ],
   "source": [
    "summary"
   ],
   "metadata": {
    "collapsed": false,
    "ExecuteTime": {
     "end_time": "2024-04-30T00:11:07.282528Z",
     "start_time": "2024-04-30T00:11:07.275717Z"
    }
   },
   "id": "1cf0cf4e91ff1f42"
  },
  {
   "cell_type": "code",
   "execution_count": 19,
   "outputs": [
    {
     "data": {
      "text/plain": "                                 model label  NDCG_at_10\n0   Snowflake/snowflake-arctic-embed-l   dev        7.46\n3                     all-MiniLM-L6-v2   dev       71.56\n6                    all-mpnet-base-v2   dev       70.93\n9                   embed-english-v3.0   dev       70.53\n12  sergeyvi4ev/all-MiniLM-RAGSQL-code   dev       89.62\n15  sergeyvi4ev/all-MiniLM-RAGSQL-text   dev       83.07\n18              text-embedding-3-large   dev       88.10\n21              text-embedding-3-small   dev       81.34\n24              text-embedding-ada-002   dev       83.17",
      "text/html": "<div>\n<style scoped>\n    .dataframe tbody tr th:only-of-type {\n        vertical-align: middle;\n    }\n\n    .dataframe tbody tr th {\n        vertical-align: top;\n    }\n\n    .dataframe thead th {\n        text-align: right;\n    }\n</style>\n<table border=\"1\" class=\"dataframe\">\n  <thead>\n    <tr style=\"text-align: right;\">\n      <th></th>\n      <th>model</th>\n      <th>label</th>\n      <th>NDCG_at_10</th>\n    </tr>\n  </thead>\n  <tbody>\n    <tr>\n      <th>0</th>\n      <td>Snowflake/snowflake-arctic-embed-l</td>\n      <td>dev</td>\n      <td>7.46</td>\n    </tr>\n    <tr>\n      <th>3</th>\n      <td>all-MiniLM-L6-v2</td>\n      <td>dev</td>\n      <td>71.56</td>\n    </tr>\n    <tr>\n      <th>6</th>\n      <td>all-mpnet-base-v2</td>\n      <td>dev</td>\n      <td>70.93</td>\n    </tr>\n    <tr>\n      <th>9</th>\n      <td>embed-english-v3.0</td>\n      <td>dev</td>\n      <td>70.53</td>\n    </tr>\n    <tr>\n      <th>12</th>\n      <td>sergeyvi4ev/all-MiniLM-RAGSQL-code</td>\n      <td>dev</td>\n      <td>89.62</td>\n    </tr>\n    <tr>\n      <th>15</th>\n      <td>sergeyvi4ev/all-MiniLM-RAGSQL-text</td>\n      <td>dev</td>\n      <td>83.07</td>\n    </tr>\n    <tr>\n      <th>18</th>\n      <td>text-embedding-3-large</td>\n      <td>dev</td>\n      <td>88.10</td>\n    </tr>\n    <tr>\n      <th>21</th>\n      <td>text-embedding-3-small</td>\n      <td>dev</td>\n      <td>81.34</td>\n    </tr>\n    <tr>\n      <th>24</th>\n      <td>text-embedding-ada-002</td>\n      <td>dev</td>\n      <td>83.17</td>\n    </tr>\n  </tbody>\n</table>\n</div>"
     },
     "execution_count": 19,
     "metadata": {},
     "output_type": "execute_result"
    }
   ],
   "source": [
    "# remove multi-qa-mpnet-base-dot-v1 and sergeyvi4ev/sql-question-to-evidence-v1\n",
    "summary_labels = summary_labels[~summary_labels['model'].isin(['multi-qa-mpnet-base-dot-v1','sergeyvi4ev/sql-question-to-evidence-v1'])]\n",
    " # where label = dev or train_val\n",
    "summary_labels[['model','label','NDCG_at_10']].loc[summary_labels['label'] == 'dev'].head(10)\n"
   ],
   "metadata": {
    "collapsed": false,
    "ExecuteTime": {
     "end_time": "2024-04-30T00:18:17.045734Z",
     "start_time": "2024-04-30T00:18:17.043608Z"
    }
   },
   "id": "aef280bb7182ef3"
  },
  {
   "cell_type": "code",
   "execution_count": null,
   "outputs": [],
   "source": [],
   "metadata": {
    "collapsed": false
   },
   "id": "5ed540929f7d35d8"
  }
 ],
 "metadata": {
  "kernelspec": {
   "display_name": "Python 3",
   "language": "python",
   "name": "python3"
  },
  "language_info": {
   "codemirror_mode": {
    "name": "ipython",
    "version": 2
   },
   "file_extension": ".py",
   "mimetype": "text/x-python",
   "name": "python",
   "nbconvert_exporter": "python",
   "pygments_lexer": "ipython2",
   "version": "2.7.6"
  }
 },
 "nbformat": 4,
 "nbformat_minor": 5
}
