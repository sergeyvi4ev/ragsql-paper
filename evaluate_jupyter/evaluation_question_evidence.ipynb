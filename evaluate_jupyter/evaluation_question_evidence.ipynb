{
 "cells": [
  {
   "cell_type": "code",
   "execution_count": 1,
   "id": "initial_id",
   "metadata": {
    "collapsed": true,
    "ExecuteTime": {
     "end_time": "2024-04-29T23:55:44.252444Z",
     "start_time": "2024-04-29T23:55:41.594999Z"
    }
   },
   "outputs": [],
   "source": [
    "from sentence_transformers import SentenceTransformer\n",
    "import pandas as pd\n",
    "import numpy as np\n",
    "import torch\n",
    "\n",
    "from scripts.custom_evaluator import Evaluator\n",
    "\n",
    "from config import model_experiments"
   ]
  },
  {
   "cell_type": "code",
   "execution_count": 2,
   "outputs": [
    {
     "data": {
      "text/plain": "['all-MiniLM-L6-v2',\n 'all-mpnet-base-v2',\n 'Snowflake/snowflake-arctic-embed-l',\n 'text-embedding-3-small',\n 'text-embedding-3-large',\n 'text-embedding-ada-002',\n 'sergeyvi4ev/all-MiniLM-RAGSQL-text',\n 'sergeyvi4ev/all-MiniLM-RAGSQL-code',\n 'embed-english-v3.0']"
     },
     "execution_count": 2,
     "metadata": {},
     "output_type": "execute_result"
    }
   ],
   "source": [
    "# get list of models as list\n",
    "models_list = list(model_experiments.keys())\n",
    "models_list"
   ],
   "metadata": {
    "collapsed": false,
    "ExecuteTime": {
     "end_time": "2024-04-29T23:55:44.322955Z",
     "start_time": "2024-04-29T23:55:44.318442Z"
    }
   },
   "id": "4a81da27d2eb7fd8"
  },
  {
   "cell_type": "code",
   "execution_count": 3,
   "outputs": [],
   "source": [
    "data = pd.read_json('../data/preprocessed/combined_data.json')\n",
    "data['index_id'] = data.index"
   ],
   "metadata": {
    "collapsed": false,
    "ExecuteTime": {
     "end_time": "2024-04-29T23:55:50.449022Z",
     "start_time": "2024-04-29T23:55:50.402745Z"
    }
   },
   "id": "83a56db31bc14551"
  },
  {
   "cell_type": "code",
   "execution_count": 4,
   "outputs": [],
   "source": [
    "# set-up experiment\n",
    "max_k = 10\n",
    "data_0 = data # data to append results\n",
    "models_list = models_list # models to evaluate\n",
    "query = 'question'\n",
    "context = 'evidence'"
   ],
   "metadata": {
    "collapsed": false,
    "ExecuteTime": {
     "end_time": "2024-04-29T23:55:56.358997Z",
     "start_time": "2024-04-29T23:55:56.356892Z"
    }
   },
   "id": "77577c042f14d7be"
  },
  {
   "cell_type": "code",
   "execution_count": 5,
   "outputs": [
    {
     "name": "stdout",
     "output_type": "stream",
     "text": [
      "torch.Size([10163, 10163])\n",
      "Model: all-MiniLM-L6-v2\n",
      "Precision@1: 0.6358358752336909\n",
      "NDCG@1: 0.6358358752336909\n",
      "Precision@3: 0.7674899143953557\n",
      "NDCG@3: 0.7131029834863185\n",
      "Precision@5: 0.8114729902587818\n",
      "NDCG@5: 0.7312434148356031\n",
      "Precision@10: 0.8592935156941848\n",
      "NDCG@10: 0.7466330396996173\n",
      "torch.Size([10163, 10163])\n",
      "Model: all-mpnet-base-v2\n",
      "Precision@1: 0.4944406179277772\n",
      "NDCG@1: 0.4944406179277772\n",
      "Precision@3: 0.6636819836662403\n",
      "NDCG@3: 0.5938123160326005\n",
      "Precision@5: 0.7315753222473679\n",
      "NDCG@5: 0.6217587589942246\n",
      "Precision@10: 0.8018301682574043\n",
      "NDCG@10: 0.6446270851602749\n",
      "torch.Size([10163, 10163])\n",
      "Model: Snowflake/snowflake-arctic-embed-l\n",
      "Precision@1: 0.4087375774869625\n",
      "NDCG@1: 0.4087375774869625\n",
      "Precision@3: 0.5393092590770442\n",
      "NDCG@3: 0.4851414323853358\n",
      "Precision@5: 0.5893928957984848\n",
      "NDCG@5: 0.5056893157967841\n",
      "Precision@10: 0.6509888812358555\n",
      "NDCG@10: 0.5256985024138622\n",
      "torch.Size([10163, 10163])\n",
      "Model: text-embedding-3-small\n",
      "Precision@1: 0.6964478992423497\n",
      "NDCG@1: 0.6964478992423497\n",
      "Precision@3: 0.8142280822591754\n",
      "NDCG@3: 0.7658891536136007\n",
      "Precision@5: 0.8528977664075569\n",
      "NDCG@5: 0.7818964668771071\n",
      "Precision@10: 0.893436977270491\n",
      "NDCG@10: 0.7951292770920576\n",
      "torch.Size([10163, 10163])\n",
      "Model: text-embedding-3-large\n",
      "Precision@1: 0.6949719570992817\n",
      "NDCG@1: 0.6949719570992817\n",
      "Precision@3: 0.8122601594017514\n",
      "NDCG@3: 0.7641672211133547\n",
      "Precision@5: 0.8515202204073601\n",
      "NDCG@5: 0.7803554903528702\n",
      "Precision@10: 0.8953065039850437\n",
      "NDCG@10: 0.7946097567397141\n",
      "torch.Size([10163, 10163])\n",
      "Model: text-embedding-ada-002\n",
      "Precision@1: 0.7078618518154088\n",
      "NDCG@1: 0.7078618518154088\n",
      "Precision@3: 0.8262324116894618\n",
      "NDCG@3: 0.7775725286497964\n",
      "Precision@5: 0.8629341729804192\n",
      "NDCG@5: 0.7927581761988057\n",
      "Precision@10: 0.9043589491291941\n",
      "NDCG@10: 0.8062355249566372\n",
      "torch.Size([10163, 10163])\n",
      "Model: sergeyvi4ev/all-MiniLM-RAGSQL-text\n",
      "Precision@1: 0.8590967234084423\n",
      "NDCG@1: 0.8590967234084423\n",
      "Precision@3: 0.9477516481353931\n",
      "NDCG@3: 0.9115146989317008\n",
      "Precision@5: 0.9672340844238906\n",
      "NDCG@5: 0.919568984667517\n",
      "Precision@10: 0.9809111482829873\n",
      "NDCG@10: 0.9240329273813236\n",
      "torch.Size([10163, 10163])\n",
      "Model: sergeyvi4ev/all-MiniLM-RAGSQL-code\n",
      "Precision@1: 0.7582406769654629\n",
      "NDCG@1: 0.7582406769654629\n",
      "Precision@3: 0.860867853980124\n",
      "NDCG@3: 0.8185852363724876\n",
      "Precision@5: 0.8922562235560366\n",
      "NDCG@5: 0.8315127152823064\n",
      "Precision@10: 0.9272852504181837\n",
      "NDCG@10: 0.8429941379092559\n",
      "torch.Size([10163, 10163])\n",
      "Model: embed-english-v3.0\n",
      "Precision@1: 0.6948735609564105\n",
      "NDCG@1: 0.6948735609564105\n",
      "Precision@3: 0.8255436386893634\n",
      "NDCG@3: 0.7722155397351764\n",
      "Precision@5: 0.864311718980616\n",
      "NDCG@5: 0.7882652299108224\n",
      "Precision@10: 0.9031781954147398\n",
      "NDCG@10: 0.8008855641152454\n"
     ]
    }
   ],
   "source": [
    "# run evaluation\n",
    "evaluator = Evaluator()\n",
    "# set context labels\n",
    "context_labels = data['index_id'].tolist()\n",
    "data_results = pd.DataFrame()\n",
    "for model in models_list:\n",
    "    model_short_name = model.split('/')[-1]\n",
    "    embeddings_questions = torch.load(f'../data/embeddings/emb_{query}_{model_short_name}.pt')\n",
    "    embeddings_evidence = torch.load(f'../data/embeddings/emb_{context}_{model_short_name}.pt')\n",
    "    # calculate cosine similarity matrix\n",
    "    cos_sim_matrix = evaluator.cosine_similarity_batch(embeddings_questions, embeddings_evidence, device='mps')\n",
    "    print(cos_sim_matrix.shape)\n",
    "    # get top k labels per each question\n",
    "    top_k_labels = evaluator.get_top_k_labels(cos_sim_matrix, context_labels, top_k=max_k)\n",
    "    \n",
    "    # Start with a fresh DataFrame for each model to capture hits and ndcg as columns for different k\n",
    "    data_0['model'] = model\n",
    "    print(\"Model: {}\".format(model))\n",
    "    \n",
    "    metrics = []\n",
    "    for k in [1, 3, 5, 10]:\n",
    "        hits, ndcg = evaluator.calculate_metrics(top_k_labels, context_labels, subset_k=k)\n",
    "        # For each k, extend the DataFrame with new columns for hits and ndcg\n",
    "        data_0['hits_at_{}'.format(k)] = hits\n",
    "        data_0['NDCG_at_{}'.format(k)] = ndcg\n",
    "        \n",
    "        print(\"Precision@{}: {}\".format(k, np.mean(hits)))\n",
    "        print(\"NDCG@{}: {}\".format(k, np.mean(ndcg)))\n",
    "        \n",
    "        metrics = metrics + ['hits_at_{}'.format(k), 'NDCG_at_{}'.format(k)]\n",
    "        \n",
    "    data_results = pd.concat([data_results, data_0], axis=0)"
   ],
   "metadata": {
    "collapsed": false,
    "ExecuteTime": {
     "end_time": "2024-04-29T23:58:56.675603Z",
     "start_time": "2024-04-29T23:55:57.873097Z"
    }
   },
   "id": "f4c13b848e63af60"
  },
  {
   "cell_type": "code",
   "execution_count": 6,
   "outputs": [],
   "source": [
    "# save results\n",
    "data_results.to_csv(f'../data/experiment_results/eval_detailed_results_{query}_{context}.csv', index=False)"
   ],
   "metadata": {
    "collapsed": false,
    "ExecuteTime": {
     "end_time": "2024-04-29T23:58:57.493669Z",
     "start_time": "2024-04-29T23:58:56.675159Z"
    }
   },
   "id": "43b0aaa83cdbadc2"
  },
  {
   "cell_type": "code",
   "execution_count": null,
   "outputs": [],
   "source": [],
   "metadata": {
    "collapsed": false
   },
   "id": "d62945127b7272c"
  }
 ],
 "metadata": {
  "kernelspec": {
   "display_name": "Python 3",
   "language": "python",
   "name": "python3"
  },
  "language_info": {
   "codemirror_mode": {
    "name": "ipython",
    "version": 2
   },
   "file_extension": ".py",
   "mimetype": "text/x-python",
   "name": "python",
   "nbconvert_exporter": "python",
   "pygments_lexer": "ipython2",
   "version": "2.7.6"
  }
 },
 "nbformat": 4,
 "nbformat_minor": 5
}
