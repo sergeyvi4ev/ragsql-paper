{
 "cells": [
  {
   "cell_type": "code",
   "execution_count": 1,
   "id": "initial_id",
   "metadata": {
    "collapsed": true,
    "ExecuteTime": {
     "end_time": "2024-04-29T23:55:04.469723Z",
     "start_time": "2024-04-29T23:55:00.358773Z"
    }
   },
   "outputs": [],
   "source": [
    "import pandas as pd\n",
    "import numpy as np\n",
    "import torch\n",
    "\n",
    "from scripts.custom_evaluator import Evaluator\n",
    "\n",
    "from config import model_experiments"
   ]
  },
  {
   "cell_type": "code",
   "execution_count": 2,
   "outputs": [
    {
     "data": {
      "text/plain": "['all-MiniLM-L6-v2',\n 'all-mpnet-base-v2',\n 'Snowflake/snowflake-arctic-embed-l',\n 'text-embedding-3-small',\n 'text-embedding-3-large',\n 'text-embedding-ada-002',\n 'sergeyvi4ev/all-MiniLM-RAGSQL-text',\n 'sergeyvi4ev/all-MiniLM-RAGSQL-code',\n 'embed-english-v3.0']"
     },
     "execution_count": 2,
     "metadata": {},
     "output_type": "execute_result"
    }
   ],
   "source": [
    "# get list of models as list\n",
    "models_list = list(model_experiments.keys())\n",
    "models_list"
   ],
   "metadata": {
    "collapsed": false,
    "ExecuteTime": {
     "end_time": "2024-04-29T23:55:04.542296Z",
     "start_time": "2024-04-29T23:55:04.470494Z"
    }
   },
   "id": "4a81da27d2eb7fd8"
  },
  {
   "cell_type": "code",
   "execution_count": 3,
   "outputs": [],
   "source": [
    "data = pd.read_json('../data/preprocessed/combined_data.json')\n",
    "data['index_id'] = data.index"
   ],
   "metadata": {
    "collapsed": false,
    "ExecuteTime": {
     "end_time": "2024-04-29T23:55:18.355676Z",
     "start_time": "2024-04-29T23:55:18.302427Z"
    }
   },
   "id": "83a56db31bc14551"
  },
  {
   "cell_type": "code",
   "execution_count": 4,
   "outputs": [],
   "source": [
    "# set-up experiment\n",
    "max_k = 10\n",
    "data_0 = data # data to append results\n",
    "models_list = models_list # models to evaluate\n",
    "query = 'question'\n",
    "context = 'SQL'"
   ],
   "metadata": {
    "collapsed": false,
    "ExecuteTime": {
     "end_time": "2024-04-29T23:55:20.539683Z",
     "start_time": "2024-04-29T23:55:20.534171Z"
    }
   },
   "id": "77577c042f14d7be"
  },
  {
   "cell_type": "code",
   "execution_count": 5,
   "outputs": [
    {
     "name": "stdout",
     "output_type": "stream",
     "text": [
      "torch.Size([10163, 10163])\n",
      "Model: all-MiniLM-L6-v2\n",
      "Precision@1: 0.5394076552199154\n",
      "NDCG@1: 0.5394076552199154\n",
      "Precision@3: 0.7191774082455967\n",
      "NDCG@3: 0.6451128345356439\n",
      "Precision@5: 0.7840204663977172\n",
      "NDCG@5: 0.671866331686308\n",
      "Precision@10: 0.8592935156941848\n",
      "NDCG@10: 0.6962910916886534\n",
      "torch.Size([10163, 10163])\n",
      "Model: all-mpnet-base-v2\n",
      "Precision@1: 0.5190396536455771\n",
      "NDCG@1: 0.5190396536455771\n",
      "Precision@3: 0.7045163829577881\n",
      "NDCG@3: 0.6277657998801712\n",
      "Precision@5: 0.7735904752533701\n",
      "NDCG@5: 0.6562423262277123\n",
      "Precision@10: 0.8504378628357768\n",
      "NDCG@10: 0.6813066122378598\n",
      "torch.Size([10163, 10163])\n",
      "Model: Snowflake/snowflake-arctic-embed-l\n",
      "Precision@1: 0.03965364557709338\n",
      "NDCG@1: 0.03965364557709338\n",
      "Precision@3: 0.06503985043786284\n",
      "NDCG@3: 0.0542534294527773\n",
      "Precision@5: 0.08157040244022434\n",
      "NDCG@5: 0.06103209573636096\n",
      "Precision@10: 0.10489028830069862\n",
      "NDCG@10: 0.06856290367325316\n",
      "torch.Size([10163, 10163])\n",
      "Model: text-embedding-3-small\n",
      "Precision@1: 0.6943815802420545\n",
      "NDCG@1: 0.6943815802420545\n",
      "Precision@3: 0.8509298435501328\n",
      "NDCG@3: 0.7869687057185762\n",
      "Precision@5: 0.897864803699695\n",
      "NDCG@5: 0.8063286993754605\n",
      "Precision@10: 0.9367312801338188\n",
      "NDCG@10: 0.8190206672919501\n",
      "torch.Size([10163, 10163])\n",
      "Model: text-embedding-3-large\n",
      "Precision@1: 0.7870707468267244\n",
      "NDCG@1: 0.7870707468267244\n",
      "Precision@3: 0.9106563022729509\n",
      "NDCG@3: 0.8609606453412967\n",
      "Precision@5: 0.9383056184197579\n",
      "NDCG@5: 0.8723812917029846\n",
      "Precision@10: 0.963003050280429\n",
      "NDCG@10: 0.8804954338478685\n",
      "torch.Size([10163, 10163])\n",
      "Model: text-embedding-ada-002\n",
      "Precision@1: 0.7008757256715537\n",
      "NDCG@1: 0.7008757256715537\n",
      "Precision@3: 0.854964085407852\n",
      "NDCG@3: 0.7921298355002773\n",
      "Precision@5: 0.9001279149857325\n",
      "NDCG@5: 0.8107486051788947\n",
      "Precision@10: 0.9448981599921283\n",
      "NDCG@10: 0.8253739859108943\n",
      "torch.Size([10163, 10163])\n",
      "Model: sergeyvi4ev/all-MiniLM-RAGSQL-text\n",
      "Precision@1: 0.7603069959657581\n",
      "NDCG@1: 0.7603069959657581\n",
      "Precision@3: 0.8750368985535767\n",
      "NDCG@3: 0.8283261739844135\n",
      "Precision@5: 0.9087867755583982\n",
      "NDCG@5: 0.8423138196660667\n",
      "Precision@10: 0.9402735412771819\n",
      "NDCG@10: 0.8525791934198103\n",
      "torch.Size([10163, 10163])\n",
      "Model: sergeyvi4ev/all-MiniLM-RAGSQL-code\n",
      "Precision@1: 0.8891075469841582\n",
      "NDCG@1: 0.8891075469841582\n",
      "Precision@3: 0.9631014464233002\n",
      "NDCG@3: 0.9336668075712334\n",
      "Precision@5: 0.9788448292826921\n",
      "NDCG@5: 0.9401711398784317\n",
      "Precision@10: 0.9880940667125848\n",
      "NDCG@10: 0.9432057616890894\n",
      "torch.Size([10163, 10163])\n",
      "Model: embed-english-v3.0\n",
      "Precision@1: 0.5311423792187346\n",
      "NDCG@1: 0.5311423792187346\n",
      "Precision@3: 0.7001869526714553\n",
      "NDCG@3: 0.6306218089045028\n",
      "Precision@5: 0.7653251992521893\n",
      "NDCG@5: 0.6574722521752444\n",
      "Precision@10: 0.8399094755485585\n",
      "NDCG@10: 0.6817767944250344\n"
     ]
    }
   ],
   "source": [
    "# run evaluation\n",
    "evaluator = Evaluator()\n",
    "# set context labels\n",
    "context_labels = data['index_id'].tolist()\n",
    "data_results = pd.DataFrame()\n",
    "for model in models_list:\n",
    "    model_short_name = model.split('/')[-1]\n",
    "    embeddings_questions = torch.load(f'../data/embeddings/emb_{query}_{model_short_name}.pt')\n",
    "    embeddings_evidence = torch.load(f'../data/embeddings/emb_{context}_{model_short_name}.pt')\n",
    "    # calculate cosine similarity matrix\n",
    "    cos_sim_matrix = evaluator.cosine_similarity_batch(embeddings_questions, embeddings_evidence, device='mps')\n",
    "    print(cos_sim_matrix.shape)\n",
    "    # get top k labels per each question\n",
    "    top_k_labels = evaluator.get_top_k_labels(cos_sim_matrix, context_labels, top_k=max_k)\n",
    "    \n",
    "    # Start with a fresh DataFrame for each model to capture hits and ndcg as columns for different k\n",
    "    data_0['model'] = model\n",
    "    print(\"Model: {}\".format(model))\n",
    "    \n",
    "    metrics = []\n",
    "    for k in [1, 3, 5, 10]:\n",
    "        hits, ndcg = evaluator.calculate_metrics(top_k_labels, context_labels, subset_k=k)\n",
    "        # For each k, extend the DataFrame with new columns for hits and ndcg\n",
    "        data_0['hits_at_{}'.format(k)] = hits\n",
    "        data_0['NDCG_at_{}'.format(k)] = ndcg\n",
    "        \n",
    "        print(\"Precision@{}: {}\".format(k, np.mean(hits)))\n",
    "        print(\"NDCG@{}: {}\".format(k, np.mean(ndcg)))\n",
    "        \n",
    "        metrics = metrics + ['hits_at_{}'.format(k), 'NDCG_at_{}'.format(k)]\n",
    "        \n",
    "    data_results = pd.concat([data_results, data_0], axis=0)"
   ],
   "metadata": {
    "collapsed": false,
    "ExecuteTime": {
     "end_time": "2024-04-29T23:58:23.406895Z",
     "start_time": "2024-04-29T23:55:22.512631Z"
    }
   },
   "id": "f4c13b848e63af60"
  },
  {
   "cell_type": "code",
   "execution_count": 6,
   "outputs": [],
   "source": [
    "# save results\n",
    "data_results.to_csv(f'../data/experiment_results/eval_detailed_results_{query}_{context}.csv', index=False)"
   ],
   "metadata": {
    "collapsed": false,
    "ExecuteTime": {
     "end_time": "2024-04-29T23:58:24.254025Z",
     "start_time": "2024-04-29T23:58:23.398135Z"
    }
   },
   "id": "43b0aaa83cdbadc2"
  },
  {
   "cell_type": "code",
   "execution_count": null,
   "outputs": [],
   "source": [],
   "metadata": {
    "collapsed": false
   },
   "id": "d62945127b7272c"
  }
 ],
 "metadata": {
  "kernelspec": {
   "display_name": "Python 3",
   "language": "python",
   "name": "python3"
  },
  "language_info": {
   "codemirror_mode": {
    "name": "ipython",
    "version": 2
   },
   "file_extension": ".py",
   "mimetype": "text/x-python",
   "name": "python",
   "nbconvert_exporter": "python",
   "pygments_lexer": "ipython2",
   "version": "2.7.6"
  }
 },
 "nbformat": 4,
 "nbformat_minor": 5
}
