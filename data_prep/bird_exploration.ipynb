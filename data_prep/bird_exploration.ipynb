{
 "cells": [
  {
   "cell_type": "code",
   "execution_count": 1,
   "outputs": [],
   "source": [
    "import pandas as pd"
   ],
   "metadata": {
    "collapsed": false,
    "ExecuteTime": {
     "end_time": "2024-10-04T20:18:12.622224Z",
     "start_time": "2024-10-04T20:18:09.822848Z"
    }
   },
   "id": "eadd24e40cac6851"
  },
  {
   "cell_type": "code",
   "execution_count": 2,
   "outputs": [],
   "source": [
    "# read json and convert to df\n",
    "train_json = pd.read_json('../data/bird-sql/train/train.json')\n",
    "train_df = pd.DataFrame(train_json)\n",
    "\n",
    "dev_json = pd.read_json('../data/bird-sql/dev/dev.json')\n",
    "dev_df = pd.DataFrame(dev_json)"
   ],
   "metadata": {
    "collapsed": false,
    "ExecuteTime": {
     "end_time": "2024-10-04T20:18:15.999025Z",
     "start_time": "2024-10-04T20:18:15.928930Z"
    }
   },
   "id": "ef9ad8b8910a6fde"
  },
  {
   "cell_type": "code",
   "execution_count": 3,
   "outputs": [
    {
     "data": {
      "text/plain": "             db_id                                           question  \\\n0   movie_platform  Name movie titles released in year 1945. Sort ...   \n1   movie_platform  State the most popular movie? When was it rele...   \n2   movie_platform  What is the name of the longest movie title? W...   \n3   movie_platform              Name the movie with the most ratings.   \n4   movie_platform  What is the average number of Mubi users who l...   \n5   movie_platform  What is the average rating for movie titled 'W...   \n6   movie_platform  What is the user avatar url for user 41579158?...   \n7   movie_platform  What is the percentage of the ratings were rat...   \n8   movie_platform  List all movie title rated in April 2020 from ...   \n9   movie_platform  List ther users who gave the worst rating for ...   \n10  movie_platform  List all movies with the best rating score. St...   \n11  movie_platform  For all ratings which are rated in year 2020, ...   \n12  movie_platform  For all movies where users left a critic, find...   \n13  movie_platform  For movie titled 'Welcome to the Dollhouse', h...   \n14  movie_platform  What is the percentage of rated movies were re...   \n15  movie_platform  Who is the director of the movie Sex, Drink an...   \n16  movie_platform        What is the name of the most followed list?   \n17  movie_platform  What are the URL to the list page on Mubi of t...   \n18  movie_platform  What is the list ID that was first created by ...   \n19  movie_platform  For movie id 1269, how many users, who was a p...   \n\n                                             evidence  \\\n0   released in the year 1945 refers to movie_rele...   \n1   most popular movie refers to MAX(movie_popular...   \n2   longest movie title refers to MAX(LENGTH(movie...   \n3   movie with the most rating refers to MAX(SUM(r...   \n4   average = AVG(movie_popularity); number of Mub...   \n5   average rating = DIVIDE((SUM(rating_score wher...   \n6   user avatar url refers to user_avatar_image_ur...   \n7   user is a subscriber refers to user_subscriber...   \n8   movie title rated in April 2020 refers to rati...   \n9            worst rating refers to rating_score = 1;   \n10  best rating score refers to rating_score = 5; ...   \n11  ratings in year 2020 refers to rating_timestam...   \n12  movies where users left a critic refers to cri...   \n13  rated with highest score refers to rating_scor...   \n14  percentage = DIVIDE(SUM(movie_release_year = 2...   \n15  Sex, Drink and Bloodshed refers to movie title...   \n16  most followed list refers to MAX(list_followers);   \n17  URL to the list page on Mubi refers to list_ur...   \n18  first created list refers to oldest list_creat...   \n19  paying subscriber refers to user_has_payment_m...   \n\n                                                  SQL  \n0   SELECT movie_title FROM movies WHERE movie_rel...  \n1   SELECT movie_title, movie_release_year, direct...  \n2   SELECT movie_title, movie_release_year FROM mo...  \n3   SELECT movie_title FROM movies GROUP BY movie_...  \n4   SELECT AVG(movie_popularity) FROM movies WHERE...  \n5   SELECT AVG(T2.rating_score) FROM movies AS T1 ...  \n6   SELECT T3.user_avatar_image_url, T3.rating_dat...  \n7   SELECT CAST(SUM(CASE WHEN user_subscriber = 1 ...  \n8   SELECT T1.movie_title FROM movies AS T1 INNER ...  \n9   SELECT T1.user_id FROM ratings AS T1 INNER JOI...  \n10  SELECT DISTINCT T2.movie_title, T2.movie_popul...  \n11  SELECT T2.movie_title FROM ratings AS T1 INNER...  \n12  SELECT T2.movie_title, T1.user_id, T1.rating_s...  \n13  SELECT CAST(SUM(CASE WHEN T2.rating_score = 5 ...  \n14  SELECT CAST(SUM(CASE WHEN T1.movie_release_yea...  \n15  SELECT director_name FROM movies WHERE movie_t...  \n16  SELECT list_title FROM lists ORDER BY list_fol...  \n17  SELECT list_url FROM lists WHERE list_update_t...  \n18  SELECT list_id FROM lists_users WHERE user_id ...  \n19  SELECT COUNT(*) FROM ratings WHERE movie_id = ...  ",
      "text/html": "<div>\n<style scoped>\n    .dataframe tbody tr th:only-of-type {\n        vertical-align: middle;\n    }\n\n    .dataframe tbody tr th {\n        vertical-align: top;\n    }\n\n    .dataframe thead th {\n        text-align: right;\n    }\n</style>\n<table border=\"1\" class=\"dataframe\">\n  <thead>\n    <tr style=\"text-align: right;\">\n      <th></th>\n      <th>db_id</th>\n      <th>question</th>\n      <th>evidence</th>\n      <th>SQL</th>\n    </tr>\n  </thead>\n  <tbody>\n    <tr>\n      <th>0</th>\n      <td>movie_platform</td>\n      <td>Name movie titles released in year 1945. Sort ...</td>\n      <td>released in the year 1945 refers to movie_rele...</td>\n      <td>SELECT movie_title FROM movies WHERE movie_rel...</td>\n    </tr>\n    <tr>\n      <th>1</th>\n      <td>movie_platform</td>\n      <td>State the most popular movie? When was it rele...</td>\n      <td>most popular movie refers to MAX(movie_popular...</td>\n      <td>SELECT movie_title, movie_release_year, direct...</td>\n    </tr>\n    <tr>\n      <th>2</th>\n      <td>movie_platform</td>\n      <td>What is the name of the longest movie title? W...</td>\n      <td>longest movie title refers to MAX(LENGTH(movie...</td>\n      <td>SELECT movie_title, movie_release_year FROM mo...</td>\n    </tr>\n    <tr>\n      <th>3</th>\n      <td>movie_platform</td>\n      <td>Name the movie with the most ratings.</td>\n      <td>movie with the most rating refers to MAX(SUM(r...</td>\n      <td>SELECT movie_title FROM movies GROUP BY movie_...</td>\n    </tr>\n    <tr>\n      <th>4</th>\n      <td>movie_platform</td>\n      <td>What is the average number of Mubi users who l...</td>\n      <td>average = AVG(movie_popularity); number of Mub...</td>\n      <td>SELECT AVG(movie_popularity) FROM movies WHERE...</td>\n    </tr>\n    <tr>\n      <th>5</th>\n      <td>movie_platform</td>\n      <td>What is the average rating for movie titled 'W...</td>\n      <td>average rating = DIVIDE((SUM(rating_score wher...</td>\n      <td>SELECT AVG(T2.rating_score) FROM movies AS T1 ...</td>\n    </tr>\n    <tr>\n      <th>6</th>\n      <td>movie_platform</td>\n      <td>What is the user avatar url for user 41579158?...</td>\n      <td>user avatar url refers to user_avatar_image_ur...</td>\n      <td>SELECT T3.user_avatar_image_url, T3.rating_dat...</td>\n    </tr>\n    <tr>\n      <th>7</th>\n      <td>movie_platform</td>\n      <td>What is the percentage of the ratings were rat...</td>\n      <td>user is a subscriber refers to user_subscriber...</td>\n      <td>SELECT CAST(SUM(CASE WHEN user_subscriber = 1 ...</td>\n    </tr>\n    <tr>\n      <th>8</th>\n      <td>movie_platform</td>\n      <td>List all movie title rated in April 2020 from ...</td>\n      <td>movie title rated in April 2020 refers to rati...</td>\n      <td>SELECT T1.movie_title FROM movies AS T1 INNER ...</td>\n    </tr>\n    <tr>\n      <th>9</th>\n      <td>movie_platform</td>\n      <td>List ther users who gave the worst rating for ...</td>\n      <td>worst rating refers to rating_score = 1;</td>\n      <td>SELECT T1.user_id FROM ratings AS T1 INNER JOI...</td>\n    </tr>\n    <tr>\n      <th>10</th>\n      <td>movie_platform</td>\n      <td>List all movies with the best rating score. St...</td>\n      <td>best rating score refers to rating_score = 5; ...</td>\n      <td>SELECT DISTINCT T2.movie_title, T2.movie_popul...</td>\n    </tr>\n    <tr>\n      <th>11</th>\n      <td>movie_platform</td>\n      <td>For all ratings which are rated in year 2020, ...</td>\n      <td>ratings in year 2020 refers to rating_timestam...</td>\n      <td>SELECT T2.movie_title FROM ratings AS T1 INNER...</td>\n    </tr>\n    <tr>\n      <th>12</th>\n      <td>movie_platform</td>\n      <td>For all movies where users left a critic, find...</td>\n      <td>movies where users left a critic refers to cri...</td>\n      <td>SELECT T2.movie_title, T1.user_id, T1.rating_s...</td>\n    </tr>\n    <tr>\n      <th>13</th>\n      <td>movie_platform</td>\n      <td>For movie titled 'Welcome to the Dollhouse', h...</td>\n      <td>rated with highest score refers to rating_scor...</td>\n      <td>SELECT CAST(SUM(CASE WHEN T2.rating_score = 5 ...</td>\n    </tr>\n    <tr>\n      <th>14</th>\n      <td>movie_platform</td>\n      <td>What is the percentage of rated movies were re...</td>\n      <td>percentage = DIVIDE(SUM(movie_release_year = 2...</td>\n      <td>SELECT CAST(SUM(CASE WHEN T1.movie_release_yea...</td>\n    </tr>\n    <tr>\n      <th>15</th>\n      <td>movie_platform</td>\n      <td>Who is the director of the movie Sex, Drink an...</td>\n      <td>Sex, Drink and Bloodshed refers to movie title...</td>\n      <td>SELECT director_name FROM movies WHERE movie_t...</td>\n    </tr>\n    <tr>\n      <th>16</th>\n      <td>movie_platform</td>\n      <td>What is the name of the most followed list?</td>\n      <td>most followed list refers to MAX(list_followers);</td>\n      <td>SELECT list_title FROM lists ORDER BY list_fol...</td>\n    </tr>\n    <tr>\n      <th>17</th>\n      <td>movie_platform</td>\n      <td>What are the URL to the list page on Mubi of t...</td>\n      <td>URL to the list page on Mubi refers to list_ur...</td>\n      <td>SELECT list_url FROM lists WHERE list_update_t...</td>\n    </tr>\n    <tr>\n      <th>18</th>\n      <td>movie_platform</td>\n      <td>What is the list ID that was first created by ...</td>\n      <td>first created list refers to oldest list_creat...</td>\n      <td>SELECT list_id FROM lists_users WHERE user_id ...</td>\n    </tr>\n    <tr>\n      <th>19</th>\n      <td>movie_platform</td>\n      <td>For movie id 1269, how many users, who was a p...</td>\n      <td>paying subscriber refers to user_has_payment_m...</td>\n      <td>SELECT COUNT(*) FROM ratings WHERE movie_id = ...</td>\n    </tr>\n  </tbody>\n</table>\n</div>"
     },
     "execution_count": 3,
     "metadata": {},
     "output_type": "execute_result"
    }
   ],
   "source": [
    "train_df.head(20)"
   ],
   "metadata": {
    "collapsed": false,
    "ExecuteTime": {
     "end_time": "2024-10-04T20:18:18.091525Z",
     "start_time": "2024-10-04T20:18:18.075856Z"
    }
   },
   "id": "3b5fc5f8437dae2f"
  },
  {
   "cell_type": "code",
   "execution_count": 4,
   "outputs": [
    {
     "data": {
      "text/plain": "    question_id               db_id  \\\n0             0  california_schools   \n1             1  california_schools   \n2             2  california_schools   \n3             3  california_schools   \n4             4  california_schools   \n5             5  california_schools   \n6             6  california_schools   \n7             7  california_schools   \n8             8  california_schools   \n9             9  california_schools   \n10           10  california_schools   \n11           11  california_schools   \n12           12  california_schools   \n13           13  california_schools   \n14           14  california_schools   \n15           15  california_schools   \n16           16  california_schools   \n17           17  california_schools   \n18           18  california_schools   \n19           19  california_schools   \n\n                                             question  \\\n0   What is the highest eligible free rate for K-1...   \n1   Please list the lowest three eligible free rat...   \n2   Please list the zip code of all the charter sc...   \n3   What is the unabbreviated mailing address of t...   \n4   Please list the phone numbers of the direct ch...   \n5   How many schools with an average score in Math...   \n6   Among the schools with the SAT test takers of ...   \n7   What is the phone number of the school that ha...   \n8   What is the number of SAT test takers of the s...   \n9   Among the schools with the average score in Ma...   \n10  For the school with the highest average score ...   \n11  Please list the codes of the schools with a to...   \n12  Among the schools with an SAT excellence rate ...   \n13  Please list the phone numbers of the schools w...   \n14  List the top five schools, by descending order...   \n15  Which active district has the highest average ...   \n16  How many schools in merged Alameda have number...   \n17  What is the charter number of the school that ...   \n18  How many schools in Contra Costa (directly fun...   \n19  What is the phone number of the school that ha...   \n\n                                             evidence  \\\n0   Eligible free rate for K-12 = `Free Meal Count...   \n1   Eligible free rates for students aged 5-17 = `...   \n2   Charter schools refers to `Charter School (Y/N...   \n3                                                       \n4   Charter schools refers to `Charter School (Y/N...   \n5         Exclusively virtual refers to Virtual = 'F'   \n6   Magnet schools or offer a magnet program means...   \n7                                                       \n8                                                       \n9                                                       \n10                                                      \n11  Total enrollment can be represented by `Enroll...   \n12  Excellence rate = NumGE1500 / NumTstTakr; Elig...   \n13           Excellence rate = NumGE1500 / NumTstTakr   \n14                                                      \n15                                                      \n16                                                      \n17                                                      \n18                                                      \n19                                                      \n\n                                                  SQL difficulty  \n0   SELECT `Free Meal Count (K-12)` / `Enrollment ...     simple  \n1   SELECT `Free Meal Count (Ages 5-17)` / `Enroll...   moderate  \n2   SELECT T2.Zip FROM frpm AS T1 INNER JOIN schoo...     simple  \n3   SELECT T2.MailStreet FROM frpm AS T1 INNER JOI...     simple  \n4   SELECT T2.Phone FROM frpm AS T1 INNER JOIN sch...   moderate  \n5   SELECT COUNT(DISTINCT T2.School) FROM satscore...     simple  \n6   SELECT T2.School FROM satscores AS T1 INNER JO...     simple  \n7   SELECT T2.Phone FROM satscores AS T1 INNER JOI...     simple  \n8   SELECT NumTstTakr FROM satscores WHERE cds = (...     simple  \n9   SELECT COUNT(T2.`School Code`) FROM satscores ...     simple  \n10  SELECT T2.`FRPM Count (Ages 5-17)` FROM satsco...     simple  \n11  SELECT T2.CDSCode FROM schools AS T1 INNER JOI...     simple  \n12  SELECT MAX(CAST(T1.`Free Meal Count (Ages 5-17...   moderate  \n13  SELECT T1.Phone FROM schools AS T1 INNER JOIN ...     simple  \n14  SELECT T1.NCESSchool FROM schools AS T1 INNER ...     simple  \n15  SELECT T1.District FROM schools AS T1 INNER JO...     simple  \n16  SELECT COUNT(T1.CDSCode) FROM schools AS T1 IN...     simple  \n17  SELECT T1.CharterNum FROM schools AS T1 INNER ...     simple  \n18  SELECT COUNT(T1.CDSCode) FROM frpm AS T1 INNER...     simple  \n19  SELECT T1.Phone FROM schools AS T1 INNER JOIN ...     simple  ",
      "text/html": "<div>\n<style scoped>\n    .dataframe tbody tr th:only-of-type {\n        vertical-align: middle;\n    }\n\n    .dataframe tbody tr th {\n        vertical-align: top;\n    }\n\n    .dataframe thead th {\n        text-align: right;\n    }\n</style>\n<table border=\"1\" class=\"dataframe\">\n  <thead>\n    <tr style=\"text-align: right;\">\n      <th></th>\n      <th>question_id</th>\n      <th>db_id</th>\n      <th>question</th>\n      <th>evidence</th>\n      <th>SQL</th>\n      <th>difficulty</th>\n    </tr>\n  </thead>\n  <tbody>\n    <tr>\n      <th>0</th>\n      <td>0</td>\n      <td>california_schools</td>\n      <td>What is the highest eligible free rate for K-1...</td>\n      <td>Eligible free rate for K-12 = `Free Meal Count...</td>\n      <td>SELECT `Free Meal Count (K-12)` / `Enrollment ...</td>\n      <td>simple</td>\n    </tr>\n    <tr>\n      <th>1</th>\n      <td>1</td>\n      <td>california_schools</td>\n      <td>Please list the lowest three eligible free rat...</td>\n      <td>Eligible free rates for students aged 5-17 = `...</td>\n      <td>SELECT `Free Meal Count (Ages 5-17)` / `Enroll...</td>\n      <td>moderate</td>\n    </tr>\n    <tr>\n      <th>2</th>\n      <td>2</td>\n      <td>california_schools</td>\n      <td>Please list the zip code of all the charter sc...</td>\n      <td>Charter schools refers to `Charter School (Y/N...</td>\n      <td>SELECT T2.Zip FROM frpm AS T1 INNER JOIN schoo...</td>\n      <td>simple</td>\n    </tr>\n    <tr>\n      <th>3</th>\n      <td>3</td>\n      <td>california_schools</td>\n      <td>What is the unabbreviated mailing address of t...</td>\n      <td></td>\n      <td>SELECT T2.MailStreet FROM frpm AS T1 INNER JOI...</td>\n      <td>simple</td>\n    </tr>\n    <tr>\n      <th>4</th>\n      <td>4</td>\n      <td>california_schools</td>\n      <td>Please list the phone numbers of the direct ch...</td>\n      <td>Charter schools refers to `Charter School (Y/N...</td>\n      <td>SELECT T2.Phone FROM frpm AS T1 INNER JOIN sch...</td>\n      <td>moderate</td>\n    </tr>\n    <tr>\n      <th>5</th>\n      <td>5</td>\n      <td>california_schools</td>\n      <td>How many schools with an average score in Math...</td>\n      <td>Exclusively virtual refers to Virtual = 'F'</td>\n      <td>SELECT COUNT(DISTINCT T2.School) FROM satscore...</td>\n      <td>simple</td>\n    </tr>\n    <tr>\n      <th>6</th>\n      <td>6</td>\n      <td>california_schools</td>\n      <td>Among the schools with the SAT test takers of ...</td>\n      <td>Magnet schools or offer a magnet program means...</td>\n      <td>SELECT T2.School FROM satscores AS T1 INNER JO...</td>\n      <td>simple</td>\n    </tr>\n    <tr>\n      <th>7</th>\n      <td>7</td>\n      <td>california_schools</td>\n      <td>What is the phone number of the school that ha...</td>\n      <td></td>\n      <td>SELECT T2.Phone FROM satscores AS T1 INNER JOI...</td>\n      <td>simple</td>\n    </tr>\n    <tr>\n      <th>8</th>\n      <td>8</td>\n      <td>california_schools</td>\n      <td>What is the number of SAT test takers of the s...</td>\n      <td></td>\n      <td>SELECT NumTstTakr FROM satscores WHERE cds = (...</td>\n      <td>simple</td>\n    </tr>\n    <tr>\n      <th>9</th>\n      <td>9</td>\n      <td>california_schools</td>\n      <td>Among the schools with the average score in Ma...</td>\n      <td></td>\n      <td>SELECT COUNT(T2.`School Code`) FROM satscores ...</td>\n      <td>simple</td>\n    </tr>\n    <tr>\n      <th>10</th>\n      <td>10</td>\n      <td>california_schools</td>\n      <td>For the school with the highest average score ...</td>\n      <td></td>\n      <td>SELECT T2.`FRPM Count (Ages 5-17)` FROM satsco...</td>\n      <td>simple</td>\n    </tr>\n    <tr>\n      <th>11</th>\n      <td>11</td>\n      <td>california_schools</td>\n      <td>Please list the codes of the schools with a to...</td>\n      <td>Total enrollment can be represented by `Enroll...</td>\n      <td>SELECT T2.CDSCode FROM schools AS T1 INNER JOI...</td>\n      <td>simple</td>\n    </tr>\n    <tr>\n      <th>12</th>\n      <td>12</td>\n      <td>california_schools</td>\n      <td>Among the schools with an SAT excellence rate ...</td>\n      <td>Excellence rate = NumGE1500 / NumTstTakr; Elig...</td>\n      <td>SELECT MAX(CAST(T1.`Free Meal Count (Ages 5-17...</td>\n      <td>moderate</td>\n    </tr>\n    <tr>\n      <th>13</th>\n      <td>13</td>\n      <td>california_schools</td>\n      <td>Please list the phone numbers of the schools w...</td>\n      <td>Excellence rate = NumGE1500 / NumTstTakr</td>\n      <td>SELECT T1.Phone FROM schools AS T1 INNER JOIN ...</td>\n      <td>simple</td>\n    </tr>\n    <tr>\n      <th>14</th>\n      <td>14</td>\n      <td>california_schools</td>\n      <td>List the top five schools, by descending order...</td>\n      <td></td>\n      <td>SELECT T1.NCESSchool FROM schools AS T1 INNER ...</td>\n      <td>simple</td>\n    </tr>\n    <tr>\n      <th>15</th>\n      <td>15</td>\n      <td>california_schools</td>\n      <td>Which active district has the highest average ...</td>\n      <td></td>\n      <td>SELECT T1.District FROM schools AS T1 INNER JO...</td>\n      <td>simple</td>\n    </tr>\n    <tr>\n      <th>16</th>\n      <td>16</td>\n      <td>california_schools</td>\n      <td>How many schools in merged Alameda have number...</td>\n      <td></td>\n      <td>SELECT COUNT(T1.CDSCode) FROM schools AS T1 IN...</td>\n      <td>simple</td>\n    </tr>\n    <tr>\n      <th>17</th>\n      <td>17</td>\n      <td>california_schools</td>\n      <td>What is the charter number of the school that ...</td>\n      <td></td>\n      <td>SELECT T1.CharterNum FROM schools AS T1 INNER ...</td>\n      <td>simple</td>\n    </tr>\n    <tr>\n      <th>18</th>\n      <td>18</td>\n      <td>california_schools</td>\n      <td>How many schools in Contra Costa (directly fun...</td>\n      <td></td>\n      <td>SELECT COUNT(T1.CDSCode) FROM frpm AS T1 INNER...</td>\n      <td>simple</td>\n    </tr>\n    <tr>\n      <th>19</th>\n      <td>19</td>\n      <td>california_schools</td>\n      <td>What is the phone number of the school that ha...</td>\n      <td></td>\n      <td>SELECT T1.Phone FROM schools AS T1 INNER JOIN ...</td>\n      <td>simple</td>\n    </tr>\n  </tbody>\n</table>\n</div>"
     },
     "execution_count": 4,
     "metadata": {},
     "output_type": "execute_result"
    }
   ],
   "source": [
    "dev_df.head(20)"
   ],
   "metadata": {
    "collapsed": false,
    "ExecuteTime": {
     "end_time": "2024-10-04T20:18:19.466788Z",
     "start_time": "2024-10-04T20:18:19.458674Z"
    }
   },
   "id": "4e3553b481cf6cc6"
  },
  {
   "cell_type": "code",
   "execution_count": 5,
   "outputs": [
    {
     "data": {
      "text/plain": "(9428,)"
     },
     "execution_count": 5,
     "metadata": {},
     "output_type": "execute_result"
    }
   ],
   "source": [
    "train_df.db_id.shape"
   ],
   "metadata": {
    "collapsed": false,
    "ExecuteTime": {
     "end_time": "2024-10-04T20:18:22.785784Z",
     "start_time": "2024-10-04T20:18:22.780251Z"
    }
   },
   "id": "845df19373bc562d"
  },
  {
   "cell_type": "code",
   "execution_count": 6,
   "outputs": [
    {
     "data": {
      "text/plain": "db_id\nworks_cycles              474\npublic_review_platform    381\nretail_world              373\nmovie_3                   325\nmondial_geo               293\n                         ... \ntrains                     40\nshooting                   28\ngenes                      23\nciteseer                   19\ncraftbeer                   6\nName: count, Length: 69, dtype: int64"
     },
     "execution_count": 6,
     "metadata": {},
     "output_type": "execute_result"
    }
   ],
   "source": [
    "train_df.db_id.value_counts()"
   ],
   "metadata": {
    "collapsed": false,
    "ExecuteTime": {
     "end_time": "2024-10-04T20:18:26.941084Z",
     "start_time": "2024-10-04T20:18:26.934902Z"
    }
   },
   "id": "fd9aa8f29b79dbb5"
  },
  {
   "cell_type": "code",
   "execution_count": 7,
   "outputs": [
    {
     "data": {
      "text/plain": "db_id\ncard_games                 191\ncodebase_community         186\nformula_1                  174\nthrombosis_prediction      163\nstudent_club               158\ntoxicology                 145\nsuperhero                  129\neuropean_football_2        129\nfinancial                  106\ncalifornia_schools          89\ndebit_card_specializing     64\nName: count, dtype: int64"
     },
     "execution_count": 7,
     "metadata": {},
     "output_type": "execute_result"
    }
   ],
   "source": [
    "dev_df.db_id.value_counts()"
   ],
   "metadata": {
    "collapsed": false,
    "ExecuteTime": {
     "end_time": "2024-10-04T20:21:57.780289Z",
     "start_time": "2024-10-04T20:21:57.776242Z"
    }
   },
   "id": "5d276392e5f52b86"
  },
  {
   "cell_type": "code",
   "execution_count": 11,
   "outputs": [
    {
     "name": "stdout",
     "output_type": "stream",
     "text": [
      "GROUP BY:  1009\n",
      "LIMIT:  1804\n",
      "JOIN:  7212\n",
      "WHERE:  8275\n"
     ]
    }
   ],
   "source": [
    "# count rows where SQL column contains 'GROUP BY'\n",
    "print('GROUP BY: ',train_df[train_df.SQL.str.contains('GROUP BY')].shape[0])\n",
    "print('LIMIT: ',train_df[train_df.SQL.str.contains('LIMIT')].shape[0])\n",
    "print('JOIN: ',train_df[train_df.SQL.str.contains('JOIN')].shape[0])\n",
    "print('WHERE: ',train_df[train_df.SQL.str.contains('WHERE')].shape[0])"
   ],
   "metadata": {
    "collapsed": false,
    "ExecuteTime": {
     "end_time": "2024-04-21T09:40:56.781843Z",
     "start_time": "2024-04-21T09:40:56.750109Z"
    }
   },
   "id": "1fc53c88cc7d9f46"
  },
  {
   "cell_type": "code",
   "execution_count": 12,
   "outputs": [],
   "source": [
    "# create flags\n",
    "train_df['sql_group_by'] = train_df.SQL.str.contains('GROUP BY')\n",
    "train_df['sql_limit'] = train_df.SQL.str.contains('LIMIT')\n",
    "train_df['sql_join'] = train_df.SQL.str.contains('JOIN')\n",
    "#create flag if evidence columns has any text\n",
    "train_df['has_evidence'] = train_df.evidence.str.len() > 0"
   ],
   "metadata": {
    "collapsed": false,
    "ExecuteTime": {
     "end_time": "2024-04-21T09:40:57.378229Z",
     "start_time": "2024-04-21T09:40:57.359803Z"
    }
   },
   "id": "63e45316e335fb0"
  },
  {
   "cell_type": "code",
   "execution_count": 13,
   "outputs": [
    {
     "data": {
      "text/plain": "                              has_evidence  sql_group_by  sql_join  sql_limit  \\\ndb_id                                                                           \naddress                                130            26       148         23   \nairline                                 88            23        66         21   \napp_store                               63            11        40         12   \nauthors                                170             7       137         16   \nbeer_factory                           131            22       109         26   \n...                                    ...           ...       ...        ...   \nuniversity                             147             4       105         34   \nvideo_games                            197            23       156         34   \nworks_cycles                           433            43       344        128   \nworld                                   85             6        76         30   \nworld_development_indicators           140             2       109         23   \n\n                              records_count  \ndb_id                                        \naddress                                 150  \nairline                                  92  \napp_store                                63  \nauthors                                 174  \nbeer_factory                            131  \n...                                     ...  \nuniversity                              150  \nvideo_games                             201  \nworks_cycles                            474  \nworld                                    99  \nworld_development_indicators            157  \n\n[69 rows x 5 columns]",
      "text/html": "<div>\n<style scoped>\n    .dataframe tbody tr th:only-of-type {\n        vertical-align: middle;\n    }\n\n    .dataframe tbody tr th {\n        vertical-align: top;\n    }\n\n    .dataframe thead th {\n        text-align: right;\n    }\n</style>\n<table border=\"1\" class=\"dataframe\">\n  <thead>\n    <tr style=\"text-align: right;\">\n      <th></th>\n      <th>has_evidence</th>\n      <th>sql_group_by</th>\n      <th>sql_join</th>\n      <th>sql_limit</th>\n      <th>records_count</th>\n    </tr>\n    <tr>\n      <th>db_id</th>\n      <th></th>\n      <th></th>\n      <th></th>\n      <th></th>\n      <th></th>\n    </tr>\n  </thead>\n  <tbody>\n    <tr>\n      <th>address</th>\n      <td>130</td>\n      <td>26</td>\n      <td>148</td>\n      <td>23</td>\n      <td>150</td>\n    </tr>\n    <tr>\n      <th>airline</th>\n      <td>88</td>\n      <td>23</td>\n      <td>66</td>\n      <td>21</td>\n      <td>92</td>\n    </tr>\n    <tr>\n      <th>app_store</th>\n      <td>63</td>\n      <td>11</td>\n      <td>40</td>\n      <td>12</td>\n      <td>63</td>\n    </tr>\n    <tr>\n      <th>authors</th>\n      <td>170</td>\n      <td>7</td>\n      <td>137</td>\n      <td>16</td>\n      <td>174</td>\n    </tr>\n    <tr>\n      <th>beer_factory</th>\n      <td>131</td>\n      <td>22</td>\n      <td>109</td>\n      <td>26</td>\n      <td>131</td>\n    </tr>\n    <tr>\n      <th>...</th>\n      <td>...</td>\n      <td>...</td>\n      <td>...</td>\n      <td>...</td>\n      <td>...</td>\n    </tr>\n    <tr>\n      <th>university</th>\n      <td>147</td>\n      <td>4</td>\n      <td>105</td>\n      <td>34</td>\n      <td>150</td>\n    </tr>\n    <tr>\n      <th>video_games</th>\n      <td>197</td>\n      <td>23</td>\n      <td>156</td>\n      <td>34</td>\n      <td>201</td>\n    </tr>\n    <tr>\n      <th>works_cycles</th>\n      <td>433</td>\n      <td>43</td>\n      <td>344</td>\n      <td>128</td>\n      <td>474</td>\n    </tr>\n    <tr>\n      <th>world</th>\n      <td>85</td>\n      <td>6</td>\n      <td>76</td>\n      <td>30</td>\n      <td>99</td>\n    </tr>\n    <tr>\n      <th>world_development_indicators</th>\n      <td>140</td>\n      <td>2</td>\n      <td>109</td>\n      <td>23</td>\n      <td>157</td>\n    </tr>\n  </tbody>\n</table>\n<p>69 rows × 5 columns</p>\n</div>"
     },
     "execution_count": 13,
     "metadata": {},
     "output_type": "execute_result"
    }
   ],
   "source": [
    "# create pivot table with rows as db_id and columns as sql_group_by, sql_limit, sql_join\n",
    "train_df_pivot = train_df.pivot_table(index='db_id', values=['sql_group_by','sql_limit','sql_join','has_evidence'], aggfunc='sum')\n",
    "\n",
    "# add a column with records count\n",
    "train_df_pivot['records_count'] = train_df.groupby('db_id').size()\n",
    "train_df_pivot"
   ],
   "metadata": {
    "collapsed": false,
    "ExecuteTime": {
     "end_time": "2024-04-21T09:40:57.925455Z",
     "start_time": "2024-04-21T09:40:57.900296Z"
    }
   },
   "id": "d159e04d65b65e76"
  },
  {
   "cell_type": "code",
   "execution_count": 14,
   "outputs": [
    {
     "data": {
      "text/plain": "        db_id                                           question  \\\n5820  airline           How many flights were there on 2018/8/1?   \n5821  airline  Among the flights on 2018/8/1, how many of the...   \n5822  airline  Please list the destination cities of all the ...   \n5823  airline  Please list the dates of the flights that were...   \n5824  airline  Please list the departure airports of the flig...   \n...       ...                                                ...   \n5907  airline  Provide the air carrier description of the fli...   \n5908  airline  Give the air carrier description of the flight...   \n5909  airline  Among the flights with air carrier \"Southwest ...   \n5910  airline  List the air carrier's description with arriva...   \n5911  airline  Among the flights of the air carrier described...   \n\n                                               evidence  \\\n5820        on 2018/8/1 refers to FL_DATE = '2018/8/1';   \n5821  on 2018/8/1 refers to FL_DATE = '2018/8/1'; de...   \n5822  destination cities refers to DEST; cancelled r...   \n5823  dates of the flights refers to FL_DATE; cancel...   \n5824  departure airports refers ORIGIN; on 2018/8/1 ...   \n...                                                 ...   \n5907  tail number refers to TAIL_NUM; TAIL_NUM = 'N9...   \n5908  earlier arrival and departure refers to ARR_DE...   \n5909  Southwest Airlines Co.: WN refers to Descripti...   \n5910  arrival time lower than the 40% of the average...   \n5911  American Airlines can be found in Description ...   \n\n                                                    SQL  sql_group_by  \\\n5820  SELECT COUNT(*) FROM Airlines WHERE FL_DATE = ...         False   \n5821  SELECT COUNT(*) FROM Airlines WHERE FL_DATE = ...         False   \n5822  SELECT DEST FROM Airlines WHERE FL_DATE = '201...          True   \n5823  SELECT FL_DATE FROM Airlines WHERE CANCELLATIO...          True   \n5824  SELECT T1.Description FROM Airports AS T1 INNE...          True   \n...                                                 ...           ...   \n5907  SELECT T2.Description FROM Airlines AS T1 INNE...          True   \n5908  SELECT T1.Description FROM `Air Carriers` AS T...          True   \n5909  SELECT T2.TAIL_NUM FROM `Air Carriers` AS T1 I...         False   \n5910  SELECT T1.Description FROM `Air Carriers` AS T...          True   \n5911  SELECT CAST(SUM(CASE WHEN T2.DEP_DELAY < 0 THE...         False   \n\n      sql_limit  sql_join  has_evidence  \n5820      False     False          True  \n5821      False     False          True  \n5822      False     False          True  \n5823      False     False          True  \n5824      False      True          True  \n...         ...       ...           ...  \n5907      False      True          True  \n5908      False      True          True  \n5909      False      True          True  \n5910      False      True          True  \n5911      False      True          True  \n\n[92 rows x 8 columns]",
      "text/html": "<div>\n<style scoped>\n    .dataframe tbody tr th:only-of-type {\n        vertical-align: middle;\n    }\n\n    .dataframe tbody tr th {\n        vertical-align: top;\n    }\n\n    .dataframe thead th {\n        text-align: right;\n    }\n</style>\n<table border=\"1\" class=\"dataframe\">\n  <thead>\n    <tr style=\"text-align: right;\">\n      <th></th>\n      <th>db_id</th>\n      <th>question</th>\n      <th>evidence</th>\n      <th>SQL</th>\n      <th>sql_group_by</th>\n      <th>sql_limit</th>\n      <th>sql_join</th>\n      <th>has_evidence</th>\n    </tr>\n  </thead>\n  <tbody>\n    <tr>\n      <th>5820</th>\n      <td>airline</td>\n      <td>How many flights were there on 2018/8/1?</td>\n      <td>on 2018/8/1 refers to FL_DATE = '2018/8/1';</td>\n      <td>SELECT COUNT(*) FROM Airlines WHERE FL_DATE = ...</td>\n      <td>False</td>\n      <td>False</td>\n      <td>False</td>\n      <td>True</td>\n    </tr>\n    <tr>\n      <th>5821</th>\n      <td>airline</td>\n      <td>Among the flights on 2018/8/1, how many of the...</td>\n      <td>on 2018/8/1 refers to FL_DATE = '2018/8/1'; de...</td>\n      <td>SELECT COUNT(*) FROM Airlines WHERE FL_DATE = ...</td>\n      <td>False</td>\n      <td>False</td>\n      <td>False</td>\n      <td>True</td>\n    </tr>\n    <tr>\n      <th>5822</th>\n      <td>airline</td>\n      <td>Please list the destination cities of all the ...</td>\n      <td>destination cities refers to DEST; cancelled r...</td>\n      <td>SELECT DEST FROM Airlines WHERE FL_DATE = '201...</td>\n      <td>True</td>\n      <td>False</td>\n      <td>False</td>\n      <td>True</td>\n    </tr>\n    <tr>\n      <th>5823</th>\n      <td>airline</td>\n      <td>Please list the dates of the flights that were...</td>\n      <td>dates of the flights refers to FL_DATE; cancel...</td>\n      <td>SELECT FL_DATE FROM Airlines WHERE CANCELLATIO...</td>\n      <td>True</td>\n      <td>False</td>\n      <td>False</td>\n      <td>True</td>\n    </tr>\n    <tr>\n      <th>5824</th>\n      <td>airline</td>\n      <td>Please list the departure airports of the flig...</td>\n      <td>departure airports refers ORIGIN; on 2018/8/1 ...</td>\n      <td>SELECT T1.Description FROM Airports AS T1 INNE...</td>\n      <td>True</td>\n      <td>False</td>\n      <td>True</td>\n      <td>True</td>\n    </tr>\n    <tr>\n      <th>...</th>\n      <td>...</td>\n      <td>...</td>\n      <td>...</td>\n      <td>...</td>\n      <td>...</td>\n      <td>...</td>\n      <td>...</td>\n      <td>...</td>\n    </tr>\n    <tr>\n      <th>5907</th>\n      <td>airline</td>\n      <td>Provide the air carrier description of the fli...</td>\n      <td>tail number refers to TAIL_NUM; TAIL_NUM = 'N9...</td>\n      <td>SELECT T2.Description FROM Airlines AS T1 INNE...</td>\n      <td>True</td>\n      <td>False</td>\n      <td>True</td>\n      <td>True</td>\n    </tr>\n    <tr>\n      <th>5908</th>\n      <td>airline</td>\n      <td>Give the air carrier description of the flight...</td>\n      <td>earlier arrival and departure refers to ARR_DE...</td>\n      <td>SELECT T1.Description FROM `Air Carriers` AS T...</td>\n      <td>True</td>\n      <td>False</td>\n      <td>True</td>\n      <td>True</td>\n    </tr>\n    <tr>\n      <th>5909</th>\n      <td>airline</td>\n      <td>Among the flights with air carrier \"Southwest ...</td>\n      <td>Southwest Airlines Co.: WN refers to Descripti...</td>\n      <td>SELECT T2.TAIL_NUM FROM `Air Carriers` AS T1 I...</td>\n      <td>False</td>\n      <td>False</td>\n      <td>True</td>\n      <td>True</td>\n    </tr>\n    <tr>\n      <th>5910</th>\n      <td>airline</td>\n      <td>List the air carrier's description with arriva...</td>\n      <td>arrival time lower than the 40% of the average...</td>\n      <td>SELECT T1.Description FROM `Air Carriers` AS T...</td>\n      <td>True</td>\n      <td>False</td>\n      <td>True</td>\n      <td>True</td>\n    </tr>\n    <tr>\n      <th>5911</th>\n      <td>airline</td>\n      <td>Among the flights of the air carrier described...</td>\n      <td>American Airlines can be found in Description ...</td>\n      <td>SELECT CAST(SUM(CASE WHEN T2.DEP_DELAY &lt; 0 THE...</td>\n      <td>False</td>\n      <td>False</td>\n      <td>True</td>\n      <td>True</td>\n    </tr>\n  </tbody>\n</table>\n<p>92 rows × 8 columns</p>\n</div>"
     },
     "execution_count": 14,
     "metadata": {},
     "output_type": "execute_result"
    }
   ],
   "source": [
    "# selet records where db_id = airline\n",
    "train_df[train_df.db_id == 'airline']"
   ],
   "metadata": {
    "collapsed": false,
    "ExecuteTime": {
     "end_time": "2024-04-21T09:40:58.777156Z",
     "start_time": "2024-04-21T09:40:58.763493Z"
    }
   },
   "id": "76c9c83e5f442227"
  }
 ],
 "metadata": {
  "kernelspec": {
   "display_name": "Python 3",
   "language": "python",
   "name": "python3"
  },
  "language_info": {
   "codemirror_mode": {
    "name": "ipython",
    "version": 2
   },
   "file_extension": ".py",
   "mimetype": "text/x-python",
   "name": "python",
   "nbconvert_exporter": "python",
   "pygments_lexer": "ipython2",
   "version": "2.7.6"
  }
 },
 "nbformat": 4,
 "nbformat_minor": 5
}
