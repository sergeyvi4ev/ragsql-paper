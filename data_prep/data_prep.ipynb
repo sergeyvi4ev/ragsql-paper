{
 "cells": [
  {
   "cell_type": "code",
   "execution_count": 1,
   "outputs": [],
   "source": [
    "import pandas as pd"
   ],
   "metadata": {
    "collapsed": false,
    "ExecuteTime": {
     "end_time": "2024-04-28T20:34:24.957680Z",
     "start_time": "2024-04-28T20:34:24.324452Z"
    }
   },
   "id": "1e146274a414fc79"
  },
  {
   "cell_type": "code",
   "execution_count": 2,
   "outputs": [],
   "source": [
    "# read json with first rows and convert to df\n",
    "train_df = pd.read_json('../data/bird-sql/train/train.json')\n",
    "dev = pd.read_json('../data/bird-sql/dev/dev.json')"
   ],
   "metadata": {
    "collapsed": false,
    "ExecuteTime": {
     "end_time": "2024-04-28T20:34:29.983653Z",
     "start_time": "2024-04-28T20:34:29.932267Z"
    }
   },
   "id": "initial_id"
  },
  {
   "cell_type": "code",
   "execution_count": 3,
   "outputs": [
    {
     "name": "stdout",
     "output_type": "stream",
     "text": [
      "(9428, 4)\n",
      "(1534, 6)\n"
     ]
    }
   ],
   "source": [
    "print(train_df.shape)\n",
    "print(dev.shape)"
   ],
   "metadata": {
    "collapsed": false,
    "ExecuteTime": {
     "end_time": "2024-04-28T20:34:30.418047Z",
     "start_time": "2024-04-28T20:34:30.415095Z"
    }
   },
   "id": "5b479a9976b36fd7"
  },
  {
   "cell_type": "code",
   "execution_count": 13,
   "outputs": [
    {
     "data": {
      "text/plain": "10962"
     },
     "execution_count": 13,
     "metadata": {},
     "output_type": "execute_result"
    }
   ],
   "source": [
    "9428+1534"
   ],
   "metadata": {
    "collapsed": false,
    "ExecuteTime": {
     "end_time": "2024-04-28T20:39:50.992820Z",
     "start_time": "2024-04-28T20:39:50.980918Z"
    }
   },
   "id": "7609b11f77f987f9"
  },
  {
   "cell_type": "code",
   "execution_count": 4,
   "outputs": [],
   "source": [
    "#leave only records where evidence is not empty\n",
    "train_df = train_df[train_df['evidence'].apply(lambda x: len(x) > 0)]\n",
    "dev = dev[dev['evidence'].apply(lambda x: len(x) > 0)]\n",
    "# add a column with nr of records id as strings\n",
    "train_df['question_id'] = train_df.index.astype(str)\n",
    "dev['question_id'] = dev['question_id'].astype(str)\n",
    "# drop column 'difficulty'\n",
    "dev.drop(columns='difficulty', inplace=True)\n",
    "\n",
    "# reorder columns for train_df\n",
    "train_df = train_df[['question_id', 'db_id', 'question', 'evidence', 'SQL']]"
   ],
   "metadata": {
    "collapsed": false,
    "ExecuteTime": {
     "end_time": "2024-04-28T20:34:35.743438Z",
     "start_time": "2024-04-28T20:34:35.728771Z"
    }
   },
   "id": "8d4d05ffeb247613"
  },
  {
   "cell_type": "code",
   "execution_count": 5,
   "outputs": [
    {
     "name": "stdout",
     "output_type": "stream",
     "text": [
      "(8783, 5)\n",
      "(1380, 5)\n"
     ]
    }
   ],
   "source": [
    "print(train_df.shape)\n",
    "print(dev.shape)"
   ],
   "metadata": {
    "collapsed": false,
    "ExecuteTime": {
     "end_time": "2024-04-28T20:34:36.702752Z",
     "start_time": "2024-04-28T20:34:36.699126Z"
    }
   },
   "id": "395d50eae9413ef3"
  },
  {
   "cell_type": "code",
   "execution_count": 6,
   "outputs": [],
   "source": [
    "# split train_df into train and val stratified by label: db_id\n",
    "from sklearn.model_selection import train_test_split\n",
    "train_tr, train_val = train_test_split(train_df, test_size=0.4, stratify=train_df['db_id'], random_state=42)"
   ],
   "metadata": {
    "collapsed": false,
    "ExecuteTime": {
     "end_time": "2024-04-28T20:34:40.600821Z",
     "start_time": "2024-04-28T20:34:39.780781Z"
    }
   },
   "id": "489a3d06a7b6f8df"
  },
  {
   "cell_type": "code",
   "execution_count": 7,
   "outputs": [
    {
     "name": "stdout",
     "output_type": "stream",
     "text": [
      "(5269, 5)\n",
      "(3514, 5)\n",
      "(1380, 5)\n"
     ]
    }
   ],
   "source": [
    "print(train_tr.shape)\n",
    "print(train_val.shape)\n",
    "print(dev.shape)"
   ],
   "metadata": {
    "collapsed": false,
    "ExecuteTime": {
     "end_time": "2024-04-28T20:34:42.669649Z",
     "start_time": "2024-04-28T20:34:42.666546Z"
    }
   },
   "id": "cfca2ec34b738019"
  },
  {
   "cell_type": "code",
   "execution_count": 11,
   "outputs": [
    {
     "name": "stdout",
     "output_type": "stream",
     "text": [
      "69\n",
      "69\n",
      "11\n"
     ]
    }
   ],
   "source": [
    "print(train_tr.db_id.nunique())\n",
    "print(train_val.db_id.nunique())\n",
    "print(dev.db_id.nunique())"
   ],
   "metadata": {
    "collapsed": false,
    "ExecuteTime": {
     "end_time": "2024-04-28T20:35:33.802264Z",
     "start_time": "2024-04-28T20:35:33.798427Z"
    }
   },
   "id": "30d1c609120428d0"
  },
  {
   "cell_type": "code",
   "execution_count": 8,
   "outputs": [],
   "source": [
    "# add label\n",
    "train_tr['label'] = 'train_tr'\n",
    "train_val['label'] = 'train_val'\n",
    "dev['label'] = 'dev'\n",
    "\n",
    "# union all dataframes\n",
    "data = pd.concat([train_tr, train_val, dev])"
   ],
   "metadata": {
    "collapsed": false,
    "ExecuteTime": {
     "end_time": "2024-04-28T20:35:02.449297Z",
     "start_time": "2024-04-28T20:35:02.436241Z"
    }
   },
   "id": "ef0a8adc0defdd7e"
  },
  {
   "cell_type": "code",
   "execution_count": 12,
   "outputs": [
    {
     "data": {
      "text/plain": "(10163, 6)"
     },
     "execution_count": 12,
     "metadata": {},
     "output_type": "execute_result"
    }
   ],
   "source": [
    "data.shape"
   ],
   "metadata": {
    "collapsed": false,
    "ExecuteTime": {
     "end_time": "2024-04-28T20:38:18.961601Z",
     "start_time": "2024-04-28T20:38:18.956697Z"
    }
   },
   "id": "2a0497b26b164c94"
  },
  {
   "cell_type": "code",
   "execution_count": 91,
   "outputs": [],
   "source": [
    "data.to_json('../data/preprocessed/combined_data.json', orient='records', lines=False, indent=4)"
   ],
   "metadata": {
    "collapsed": false,
    "ExecuteTime": {
     "end_time": "2024-04-21T20:34:48.830247Z",
     "start_time": "2024-04-21T20:34:48.800812Z"
    }
   },
   "id": "f0ff2c0480999410"
  }
 ],
 "metadata": {
  "kernelspec": {
   "display_name": "Python 3",
   "language": "python",
   "name": "python3"
  },
  "language_info": {
   "codemirror_mode": {
    "name": "ipython",
    "version": 2
   },
   "file_extension": ".py",
   "mimetype": "text/x-python",
   "name": "python",
   "nbconvert_exporter": "python",
   "pygments_lexer": "ipython2",
   "version": "2.7.6"
  }
 },
 "nbformat": 4,
 "nbformat_minor": 5
}
