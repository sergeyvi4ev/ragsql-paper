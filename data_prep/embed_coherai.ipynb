{
 "cells": [
  {
   "cell_type": "code",
   "execution_count": 1,
   "id": "initial_id",
   "metadata": {
    "collapsed": true,
    "ExecuteTime": {
     "end_time": "2024-04-29T22:42:04.456814Z",
     "start_time": "2024-04-29T22:42:01.897058Z"
    }
   },
   "outputs": [],
   "source": [
    "import pandas as pd\n",
    "import numpy as np\n",
    "import torch\n",
    "\n",
    "import cohere\n",
    "import os\n",
    "\n",
    "from config import model_experiments"
   ]
  },
  {
   "cell_type": "code",
   "execution_count": 2,
   "outputs": [],
   "source": [
    "from dotenv import load_dotenv\n",
    "load_dotenv()\n",
    "cohere_api_key = os.getenv(\"COHERE_API_KEY\")"
   ],
   "metadata": {
    "collapsed": false,
    "ExecuteTime": {
     "end_time": "2024-04-29T22:42:04.464211Z",
     "start_time": "2024-04-29T22:42:04.458054Z"
    }
   },
   "id": "6474ce1fe439348b"
  },
  {
   "cell_type": "code",
   "execution_count": 3,
   "outputs": [],
   "source": [
    "data = pd.read_json('../data/preprocessed/combined_data.json')\n",
    "# concatenate the question_id and label to create a unique identifier for each record\n",
    "data['rec_id'] = data['question_id'].astype(str) + '_' + data['label'].astype(str)\n",
    "data['metadata_filter'] = data['db_id'].astype(str) + '-' + data['label'].astype(str)\n",
    "\n",
    "# add evidence_id as row id\n",
    "data['index_id'] = data.index\n",
    "data_0 = data"
   ],
   "metadata": {
    "collapsed": false,
    "ExecuteTime": {
     "end_time": "2024-04-29T22:42:05.150570Z",
     "start_time": "2024-04-29T22:42:05.075305Z"
    }
   },
   "id": "4da1b7c1ff17dcfd"
  },
  {
   "cell_type": "code",
   "execution_count": 4,
   "outputs": [
    {
     "data": {
      "text/plain": "['embed-english-v3.0']"
     },
     "execution_count": 4,
     "metadata": {},
     "output_type": "execute_result"
    }
   ],
   "source": [
    "# get list of models as list where \"type\": \"open-ai\" in config\n",
    "cohere_models = [model for model, details in model_experiments.items() if details['type'] == 'cohere']\n",
    "cohere_models"
   ],
   "metadata": {
    "collapsed": false,
    "ExecuteTime": {
     "end_time": "2024-04-29T22:42:05.847876Z",
     "start_time": "2024-04-29T22:42:05.844119Z"
    }
   },
   "id": "9ca9501fdccd6405"
  },
  {
   "cell_type": "code",
   "execution_count": 5,
   "outputs": [],
   "source": [
    "co = cohere.Client(cohere_api_key)\n",
    "\n",
    "# because the texts being embedded are the passages we are searching over, we set the input type as search_doc\n"
   ],
   "metadata": {
    "collapsed": false,
    "ExecuteTime": {
     "end_time": "2024-04-29T22:42:06.691865Z",
     "start_time": "2024-04-29T22:42:06.637522Z"
    }
   },
   "id": "aa865bf7d81e483e"
  },
  {
   "cell_type": "code",
   "execution_count": 6,
   "outputs": [],
   "source": [
    "# function that takes in a model name, list of sentences and returns the embeddings in torch tensor format\n",
    "def get_embeddings_cohere(model_name, sentences):\n",
    "    doc_embeddings = co.embed(texts=sentences,\n",
    "                model=model_name,\n",
    "                input_type=\"search_document\")\n",
    "    doc_embeddings = torch.tensor(doc_embeddings.embeddings)\n",
    "    return doc_embeddings"
   ],
   "metadata": {
    "collapsed": false,
    "ExecuteTime": {
     "end_time": "2024-04-29T22:42:07.507274Z",
     "start_time": "2024-04-29T22:42:07.505983Z"
    }
   },
   "id": "4abdced29027cf53"
  },
  {
   "cell_type": "code",
   "execution_count": 7,
   "outputs": [
    {
     "name": "stdout",
     "output_type": "stream",
     "text": [
      "emb_question_embed-english-v3.0.pt have been saved\n",
      "emb_evidence_embed-english-v3.0.pt have been saved\n",
      "emb_SQL_embed-english-v3.0.pt have been saved\n"
     ]
    }
   ],
   "source": [
    "for model in cohere_models:\n",
    "    for column_name in ['question', 'evidence', 'SQL']:\n",
    "        embeddings = get_embeddings_cohere(model, data[column_name].tolist())\n",
    "        model_short_name = model.split('/')[-1]\n",
    "        torch.save(embeddings, f'../data/embeddings/emb_{column_name}_{model_short_name}.pt')\n",
    "        print(f'emb_{column_name}_{model_short_name}.pt have been saved')"
   ],
   "metadata": {
    "collapsed": false,
    "ExecuteTime": {
     "end_time": "2024-04-29T22:44:45.096067Z",
     "start_time": "2024-04-29T22:42:08.369443Z"
    }
   },
   "id": "d4ae960c37b57abb"
  },
  {
   "cell_type": "code",
   "execution_count": null,
   "outputs": [],
   "source": [],
   "metadata": {
    "collapsed": false
   },
   "id": "9b55ff3ccf777a95"
  }
 ],
 "metadata": {
  "kernelspec": {
   "display_name": "Python 3",
   "language": "python",
   "name": "python3"
  },
  "language_info": {
   "codemirror_mode": {
    "name": "ipython",
    "version": 2
   },
   "file_extension": ".py",
   "mimetype": "text/x-python",
   "name": "python",
   "nbconvert_exporter": "python",
   "pygments_lexer": "ipython2",
   "version": "2.7.6"
  }
 },
 "nbformat": 4,
 "nbformat_minor": 5
}
