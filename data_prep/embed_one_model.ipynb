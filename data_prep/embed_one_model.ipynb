{
 "cells": [
  {
   "cell_type": "code",
   "execution_count": 4,
   "outputs": [],
   "source": [
    "from sentence_transformers import SentenceTransformer\n",
    "import pandas as pd\n",
    "import numpy as np\n",
    "import torch"
   ],
   "metadata": {
    "collapsed": false,
    "ExecuteTime": {
     "end_time": "2024-04-26T22:17:39.517566Z",
     "start_time": "2024-04-26T22:17:36.799366Z"
    }
   },
   "id": "initial_id"
  },
  {
   "cell_type": "code",
   "execution_count": 5,
   "outputs": [
    {
     "data": {
      "text/plain": "SentenceTransformer(\n  (0): Transformer({'max_seq_length': 256, 'do_lower_case': False}) with Transformer model: BertModel \n  (1): Pooling({'word_embedding_dimension': 384, 'pooling_mode_cls_token': False, 'pooling_mode_mean_tokens': True, 'pooling_mode_max_tokens': False, 'pooling_mode_mean_sqrt_len_tokens': False, 'pooling_mode_weightedmean_tokens': False, 'pooling_mode_lasttoken': False, 'include_prompt': True})\n  (2): Normalize()\n)"
     },
     "execution_count": 5,
     "metadata": {},
     "output_type": "execute_result"
    }
   ],
   "source": [
    "model = SentenceTransformer(\"all-MiniLM-L6-v2\")\n",
    "device = torch.device(\"mps\")\n",
    "model.to(device)"
   ],
   "metadata": {
    "collapsed": false,
    "ExecuteTime": {
     "end_time": "2024-04-26T22:17:41.579891Z",
     "start_time": "2024-04-26T22:17:39.517744Z"
    }
   },
   "id": "2bc887cbb3621994"
  },
  {
   "cell_type": "code",
   "execution_count": null,
   "outputs": [],
   "source": [
    "data = pd.read_json('../data/preprocessed/combined_data.json')\n",
    "# concatenate the question_id and label to create a unique identifier for each record\n",
    "data['rec_id'] = data['question_id'].astype(str) + '_' + data['label'].astype(str)\n",
    "data['metadata_filter'] = data['db_id'].astype(str) + '-' + data['label'].astype(str)\n",
    "\n",
    "# add evidence_id as row id\n",
    "data['index_id'] = data.index\n",
    "data_0 = data"
   ],
   "metadata": {
    "collapsed": false
   },
   "id": "1f33976acc8a5007"
  },
  {
   "cell_type": "code",
   "execution_count": 6,
   "outputs": [],
   "source": [
    "# Sentences are encoded by calling model.encode()\n",
    "embeddings_questions = model.encode(data['question'].tolist())\n",
    "embeddings_evidence = model.encode(data['evidence'].tolist())"
   ],
   "metadata": {
    "collapsed": false,
    "ExecuteTime": {
     "end_time": "2024-04-26T22:17:41.588879Z",
     "start_time": "2024-04-26T22:17:41.580419Z"
    }
   },
   "id": "4b951bd2f0377677"
  },
  {
   "cell_type": "code",
   "execution_count": 7,
   "outputs": [],
   "source": [
    "# save the matrix to a file\n",
    "# save as tensor\n",
    "import torch\n",
    "torch.save(torch.tensor(embeddings_questions), '../data/embeddings/embeddings_questions.pt')\n",
    "torch.save(torch.tensor(embeddings_evidence), '../data/embeddings/embeddings_evidence.pt')\n"
   ],
   "metadata": {
    "collapsed": false,
    "ExecuteTime": {
     "end_time": "2024-04-26T22:17:41.659989Z",
     "start_time": "2024-04-26T22:17:41.587200Z"
    }
   },
   "id": "f13350a130f0ef86"
  },
  {
   "cell_type": "code",
   "execution_count": null,
   "outputs": [],
   "source": [
    "# TODO: batch process OpenAI embeddings"
   ],
   "metadata": {
    "collapsed": false
   },
   "id": "f5feb15db8309195"
  }
 ],
 "metadata": {
  "kernelspec": {
   "display_name": "Python 3",
   "language": "python",
   "name": "python3"
  },
  "language_info": {
   "codemirror_mode": {
    "name": "ipython",
    "version": 2
   },
   "file_extension": ".py",
   "mimetype": "text/x-python",
   "name": "python",
   "nbconvert_exporter": "python",
   "pygments_lexer": "ipython2",
   "version": "2.7.6"
  }
 },
 "nbformat": 4,
 "nbformat_minor": 5
}
